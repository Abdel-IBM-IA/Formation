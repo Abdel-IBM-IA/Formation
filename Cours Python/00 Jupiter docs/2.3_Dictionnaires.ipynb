{
 "cells": [
  {
   "cell_type": "markdown",
   "metadata": {
    "deletable": false,
    "editable": false
   },
   "source": [
    "<img src = \"images/logos.png\" width = 600, align = \"center\">\n",
    "<br>\n",
    "\n",
    "<h1 align=center><font size = 5>PYTHON - LES DICTIONNAIRES</font></h1>"
   ]
  },
  {
   "cell_type": "markdown",
   "metadata": {},
   "source": [
    "\n",
    "## Contenu\n",
    "\n",
    "\n",
    "<div class=\"alert alert-block alert-info\" style=\"margin-top: 20px\">\n",
    "<ul>\n",
    "<li><a href=\"#ref2\">Dictionnaires</a></li>\n",
    "</ul>\n",
    "    <p></p>\n",
    "Durée estimée : <strong>20 min</strong>\n",
    "</div>\n",
    "\n",
    "<hr>"
   ]
  },
  {
   "cell_type": "markdown",
   "metadata": {},
   "source": [
    "<a id=\"ref2\"></a>\n",
    "<h2 align=center> Dictionnaires</h2>\n"
   ]
  },
  {
   "cell_type": "markdown",
   "metadata": {},
   "source": [
    "Un dictionnaire est un ensemble de couples (clé, valeur). Les clés sont uniques et peuvent être de type integer ou string et même tuple.\n",
    "Ils se définissent par des accolades : `{cle1 : val1 , cle2 : val2 , ....}`"
   ]
  },
  {
   "cell_type": "markdown",
   "metadata": {},
   "source": [
    "Exemple : "
   ]
  },
  {
   "cell_type": "code",
   "execution_count": 1,
   "metadata": {},
   "outputs": [
    {
     "data": {
      "text/plain": [
       "{'c1': 125,\n",
       " 'c2': '250',\n",
       " 'c3': [6, 6, 6],\n",
       " 'cle4': (4, 4, 4),\n",
       " 'k5': 5,\n",
       " (0, 1, 2): 750}"
      ]
     },
     "execution_count": 1,
     "metadata": {},
     "output_type": "execute_result"
    }
   ],
   "source": [
    "Dict={\"c1\":125,\"c2\":\"250\",\"c3\":[6,6,6],\"cle4\":(4,4,4),('k5'):5,(0,1,2):750}\n",
    "Dict"
   ]
  },
  {
   "cell_type": "markdown",
   "metadata": {},
   "source": [
    "L'accès aux valeurs passe par les clés associèes :"
   ]
  },
  {
   "cell_type": "code",
   "execution_count": 2,
   "metadata": {},
   "outputs": [
    {
     "data": {
      "text/plain": [
       "125"
      ]
     },
     "execution_count": 2,
     "metadata": {},
     "output_type": "execute_result"
    }
   ],
   "source": [
    "Dict[\"c1\"]"
   ]
  },
  {
   "cell_type": "code",
   "execution_count": 3,
   "metadata": {},
   "outputs": [
    {
     "data": {
      "text/plain": [
       "750"
      ]
     },
     "execution_count": 3,
     "metadata": {},
     "output_type": "execute_result"
    }
   ],
   "source": [
    "Dict[(0,1,2)]"
   ]
  },
  {
   "cell_type": "code",
   "execution_count": 4,
   "metadata": {},
   "outputs": [
    {
     "data": {
      "text/plain": [
       "{'Dr. No': '1962',\n",
       " 'From Russia with Love': '1963',\n",
       " 'Goldfinger': '1964',\n",
       " 'Thunderball': '1965',\n",
       " 'You only live twice': '1967',\n",
       " \"On Her Majesty's Secret Service\": '1969',\n",
       " 'Diamonds are forever': '1971',\n",
       " 'Live and Let Die': '1973'}"
      ]
     },
     "execution_count": 4,
     "metadata": {},
     "output_type": "execute_result"
    }
   ],
   "source": [
    "annee_film = {\"Dr. No\":\"1962\", \"From Russia with Love\":\"1963\", \\\n",
    "                    \"Goldfinger\":\"1964\", \"Thunderball\":\"1965\", \\\n",
    "                    \"You only live twice\":\"1967\", \"On Her Majesty's Secret Service\":\"1969\", \\\n",
    "                    \"Diamonds are forever\":\"1971\", \"Live and Let Die\":\"1973\"}\n",
    "annee_film"
   ]
  },
  {
   "cell_type": "markdown",
   "metadata": {},
   "source": [
    "Pour ceux qui ont déjà manipulé le langage PHP, il s'agit de l'équivalent du tableau associatif."
   ]
  },
  {
   "cell_type": "markdown",
   "metadata": {},
   "source": [
    "#### Quelles sont les clés de ce dictionnaire ?\n",
    "On peut utiliser la méthode `keys()`"
   ]
  },
  {
   "cell_type": "code",
   "execution_count": 5,
   "metadata": {},
   "outputs": [
    {
     "data": {
      "text/plain": [
       "dict_keys(['Dr. No', 'From Russia with Love', 'Goldfinger', 'Thunderball', 'You only live twice', \"On Her Majesty's Secret Service\", 'Diamonds are forever', 'Live and Let Die'])"
      ]
     },
     "execution_count": 5,
     "metadata": {},
     "output_type": "execute_result"
    }
   ],
   "source": [
    "annee_film.keys()"
   ]
  },
  {
   "cell_type": "markdown",
   "metadata": {},
   "source": [
    " <div align=\"right\">\n",
    "<a href=\"#Dict1\" class=\"btn btn-default\" data-toggle=\"collapse\">Solution</a>\n",
    "\n",
    "</div>\n",
    "<div id=\"Dict1\" class=\"collapse\">\n",
    "```\n",
    "Ce sont les titres de films\n",
    "```\n",
    "</div>"
   ]
  },
  {
   "cell_type": "markdown",
   "metadata": {},
   "source": [
    "####  Quelles sont les valeurs dans ce dictionnaire ?\n",
    "On peut utiliser la méthode `values()`"
   ]
  },
  {
   "cell_type": "code",
   "execution_count": 6,
   "metadata": {},
   "outputs": [
    {
     "data": {
      "text/plain": [
       "dict_values(['1962', '1963', '1964', '1965', '1967', '1969', '1971', '1973'])"
      ]
     },
     "execution_count": 6,
     "metadata": {},
     "output_type": "execute_result"
    }
   ],
   "source": [
    "annee_film.values()"
   ]
  },
  {
   "cell_type": "markdown",
   "metadata": {},
   "source": [
    " <div align=\"right\">\n",
    "<a href=\"#Dict2\" class=\"btn btn-default\" data-toggle=\"collapse\">Solution</a>\n",
    "\n",
    "</div>\n",
    "<div id=\"Dict2\" class=\"collapse\">\n",
    "```\n",
    "Ce sont les années de sortie.\n",
    "```\n",
    "</div>"
   ]
  },
  {
   "cell_type": "markdown",
   "metadata": {},
   "source": [
    "**Ajouter un couple (clé, valeur) : **"
   ]
  },
  {
   "cell_type": "code",
   "execution_count": 7,
   "metadata": {},
   "outputs": [
    {
     "data": {
      "text/plain": [
       "{'Dr. No': '1962',\n",
       " 'From Russia with Love': '1963',\n",
       " 'Goldfinger': '1964',\n",
       " 'Thunderball': '1965',\n",
       " 'You only live twice': '1967',\n",
       " \"On Her Majesty's Secret Service\": '1969',\n",
       " 'Diamonds are forever': '1971',\n",
       " 'Live and Let Die': '1973',\n",
       " 'The man wiyh the golden gun': '1977'}"
      ]
     },
     "execution_count": 7,
     "metadata": {},
     "output_type": "execute_result"
    }
   ],
   "source": [
    "annee_film['The man wiyh the golden gun']='1977'\n",
    "annee_film"
   ]
  },
  {
   "cell_type": "markdown",
   "metadata": {},
   "source": [
    "** Supprimer une entrée : **  "
   ]
  },
  {
   "cell_type": "code",
   "execution_count": 8,
   "metadata": {},
   "outputs": [
    {
     "data": {
      "text/plain": [
       "{'Dr. No': '1962',\n",
       " 'From Russia with Love': '1963',\n",
       " 'Thunderball': '1965',\n",
       " 'You only live twice': '1967',\n",
       " \"On Her Majesty's Secret Service\": '1969',\n",
       " 'Diamonds are forever': '1971',\n",
       " 'Live and Let Die': '1973',\n",
       " 'The man wiyh the golden gun': '1977'}"
      ]
     },
     "execution_count": 8,
     "metadata": {},
     "output_type": "execute_result"
    }
   ],
   "source": [
    "del(annee_film['Goldfinger'])\n",
    "annee_film"
   ]
  },
  {
   "cell_type": "markdown",
   "metadata": {},
   "source": [
    "**Vérifier l'existence d'un élèment :**"
   ]
  },
  {
   "cell_type": "code",
   "execution_count": 9,
   "metadata": {},
   "outputs": [
    {
     "data": {
      "text/plain": [
       "False"
      ]
     },
     "execution_count": 9,
     "metadata": {},
     "output_type": "execute_result"
    }
   ],
   "source": [
    "'Goldfinger' in annee_film"
   ]
  },
  {
   "cell_type": "markdown",
   "metadata": {},
   "source": [
    "##### a) Creer un dictionnaire, des dix plus anciens James Bond, 'notes_films' dans lequel les clés sont les titres de films et les valeurs sont les notes obtenues par chaque film"
   ]
  },
  {
   "cell_type": "code",
   "execution_count": 76,
   "metadata": {},
   "outputs": [
    {
     "data": {
      "text/plain": [
       "{'Dr. No': '6,8',\n",
       " 'From Russia with Love': '6.8',\n",
       " 'Goldfinger': '7.2',\n",
       " 'Thunderball': '6.7',\n",
       " 'You only live twice': '6.5',\n",
       " \"On Her Majesty's Secret Service\": '6.4',\n",
       " 'Diamonds are forever': '6.2',\n",
       " 'Live and Let Die': '6.1',\n",
       " 'The Man with the Golden Gun': '6.2',\n",
       " 'The Spy Who Loved Me': '6.4'}"
      ]
     },
     "execution_count": 76,
     "metadata": {},
     "output_type": "execute_result"
    }
   ],
   "source": [
    "oldest_film = {\"Dr. No\":\"6,8\", \n",
    "               \"From Russia with Love\":\"6.8\",\n",
    "               \"Goldfinger\":\"7.2\", \n",
    "               \"Thunderball\":\"6.7\", \n",
    "               \"You only live twice\":\"6.5\", \n",
    "               \"On Her Majesty's Secret Service\":\"6.4\", \n",
    "               \"Diamonds are forever\":\"6.2\", \n",
    "               \"Live and Let Die\":\"6.1\",\n",
    "               \"The Man with the Golden Gun\":\"6.2\",\n",
    "               \"The Spy Who Loved Me\":\"6.4\"}\n",
    "oldest_film"
   ]
  },
  {
   "cell_type": "markdown",
   "metadata": {},
   "source": [
    "#### b) Afficher la note du film : \"Goldfinger\""
   ]
  },
  {
   "cell_type": "code",
   "execution_count": 16,
   "metadata": {},
   "outputs": [
    {
     "data": {
      "text/plain": [
       "'7.2'"
      ]
     },
     "execution_count": 16,
     "metadata": {},
     "output_type": "execute_result"
    }
   ],
   "source": [
    "oldest_film[\"Goldfinger\"]"
   ]
  },
  {
   "cell_type": "markdown",
   "metadata": {},
   "source": [
    "#### c)Consulter la <a href=\"https://www.programiz.com/python-programming/methods/dictionary\">documentation</a> puis :"
   ]
  },
  {
   "cell_type": "markdown",
   "metadata": {},
   "source": [
    "Ordonner 'notes_fimls' par ordre décroissant"
   ]
  },
  {
   "cell_type": "code",
   "execution_count": 40,
   "metadata": {},
   "outputs": [
    {
     "data": {
      "text/plain": [
       "[('Goldfinger', '7.2'),\n",
       " ('From Russia with Love', '6.8'),\n",
       " ('Thunderball', '6.7'),\n",
       " ('You only live twice', '6.5'),\n",
       " (\"On Her Majesty's Secret Service\", '6.4'),\n",
       " ('The Spy Who Loved Me', '6.4'),\n",
       " ('Diamonds are forever', '6.2'),\n",
       " ('The Man with the Golden Gun', '6.2'),\n",
       " ('Live and Let Die', '6.1'),\n",
       " ('Dr. No', '6,8')]"
      ]
     },
     "execution_count": 40,
     "metadata": {},
     "output_type": "execute_result"
    }
   ],
   "source": [
    "#{k: v for k, v in sorted(oldest_film.items(), key=lambda item: item[1],reverse=True)}\n",
    "\n",
    "\n",
    "sorted(oldest_film.items(), key=lambda item: item[1],reverse=True)"
   ]
  },
  {
   "cell_type": "markdown",
   "metadata": {},
   "source": [
    "Donner les notes maxi et mini obtenues par les films."
   ]
  },
  {
   "cell_type": "code",
   "execution_count": 79,
   "metadata": {},
   "outputs": [
    {
     "name": "stdout",
     "output_type": "stream",
     "text": [
      "note mini : 6,8\n"
     ]
    },
    {
     "data": {
      "text/plain": [
       "dict_values(['6,8', '6.8', '7.2', '6.7', '6.5', '6.4', '6.2', '6.1', '6.2', '6.4'])"
      ]
     },
     "execution_count": 79,
     "metadata": {},
     "output_type": "execute_result"
    }
   ],
   "source": [
    "print(\"note mini : \"+min(list(oldest_film.values())))\n",
    "\n",
    "oldest_film.values()\n",
    "import operator\n",
    "print(max(oldest_film, key=oldest_film.values()))\n",
    "\n",
    "\n",
    "print(min(oldest_film, key=oldest_film.values()))\n",
    "\n",
    "\n",
    "\n"
   ]
  },
  {
   "cell_type": "markdown",
   "metadata": {},
   "source": [
    "Expliquer et donner un exemple d'utilisation de la méthode zip()"
   ]
  },
  {
   "cell_type": "code",
   "execution_count": null,
   "metadata": {},
   "outputs": [],
   "source": []
  },
  {
   "cell_type": "markdown",
   "metadata": {
    "deletable": false,
    "editable": false
   },
   "source": [
    "<hr>\n",
    "Copyright &copy; 2020 Hatem & Driss @NEEDEMAND"
   ]
  }
 ],
 "metadata": {
  "celltoolbar": "Aucun(e)",
  "kernelspec": {
   "display_name": "Python 3",
   "language": "python",
   "name": "python3"
  },
  "language_info": {
   "codemirror_mode": {
    "name": "ipython",
    "version": 3
   },
   "file_extension": ".py",
   "mimetype": "text/x-python",
   "name": "python",
   "nbconvert_exporter": "python",
   "pygments_lexer": "ipython3",
   "version": "3.8.3"
  },
  "widgets": {
   "state": {},
   "version": "1.1.2"
  }
 },
 "nbformat": 4,
 "nbformat_minor": 2
}
