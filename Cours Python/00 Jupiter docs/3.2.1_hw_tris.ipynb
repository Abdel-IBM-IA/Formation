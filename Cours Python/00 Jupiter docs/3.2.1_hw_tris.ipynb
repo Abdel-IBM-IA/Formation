{
 "cells": [
  {
   "cell_type": "markdown",
   "metadata": {
    "deletable": false,
    "editable": false
   },
   "source": [
    "<img src = \"images/logos.png\" width = 600, align = \"center\">\n",
    "<br>\n",
    "<h1 align=center><font size = 5>Méthodes de tri</font></h1>"
   ]
  },
  {
   "cell_type": "markdown",
   "metadata": {},
   "source": [
    "On souhaite écrire un petit programme qui vérifie que le tableau est trié. Il suffit de compléter le\n",
    "programme suivant :"
   ]
  },
  {
   "cell_type": "code",
   "execution_count": null,
   "metadata": {},
   "outputs": [],
   "source": [
    "suite = [1,2,3,6,5]\n",
    "N=len(suite)\n",
    "resultat = True\n",
    "for i in range (0, N-1) :\n",
    "    if suite[i] > suite[i+1] :\n",
    "        resultat = False\n",
    "        break\n",
    "print (\"le tableau est-il trié : \", resultat)"
   ]
  },
  {
   "cell_type": "markdown",
   "metadata": {},
   "source": [
    "Complétez le programe suivant pour obtenir la même chose qu’à la\n",
    "question précédente :"
   ]
  },
  {
   "cell_type": "code",
   "execution_count": 10,
   "metadata": {},
   "outputs": [
    {
     "name": "stdout",
     "output_type": "stream",
     "text": [
      "le tableau est-il trié :  True\n"
     ]
    }
   ],
   "source": [
    "suite = [1,2,3,4,5]\n",
    "N=len(suite)\n",
    "resultat = True\n",
    "i = 0\n",
    "while i < N-1 :\n",
    "    if suite[i] > suite[i+1] :\n",
    "        resultat = False\n",
    "        break\n",
    "    i=i+1\n",
    "print(\"le tableau est-il trié : \", resultat)"
   ]
  },
  {
   "cell_type": "markdown",
   "metadata": {},
   "source": [
    "### Recherche dichotomique"
   ]
  },
  {
   "cell_type": "markdown",
   "metadata": {},
   "source": [
    "La recherche dichotomique consiste à chercher un élément *x* dans un tableau trié\n",
    "On cherche sa position :\n",
    "- On commence par comparer *x* à l’élément placé au milieu du tableau d’indice m, s’ils sont égaux, on a trouvé,\n",
    "- s’il est inférieur, on sait qu’il se trouve entre les indices 0 et m-1,\n",
    "- s’il est supérieur, on sait qu’il se trouve entre les indices m+1 et la fin du tableau.\n",
    "\n",
    "Avec une comparaison, on a déjà éliminé une moitié de tableau dans laquelle on sait que *x* ne se trouve\n",
    "pas. On applique le même raisonnement à l’autre moitié pour réduire la partie du tableau dans laquelle\n",
    "on doit chercher.\n",
    "Il ne reste plus qu’à écrire le programme qui effectue cette recherche. On cherche à déterminer la position\n",
    "de l’élément *x* dans la liste L.\n",
    "On utilise les indications suivantes :\n",
    "- il y a une boucle, de préférence while\n",
    "- il y a deux tests\n",
    "- la liste des variables pourrait être *x*, L, a, b, m"
   ]
  },
  {
   "cell_type": "code",
   "execution_count": 37,
   "metadata": {},
   "outputs": [
    {
     "name": "stdout",
     "output_type": "stream",
     "text": [
      "la valeur n'est pas dans le tableau\n"
     ]
    }
   ],
   "source": [
    "Liste = [1,2,3,4,5,6,7,8,9]\n",
    "sup=len(Liste)-1\n",
    "inf = 0\n",
    "x=11\n",
    "while inf <= sup :\n",
    "    middle=(inf+sup)//2\n",
    "    if Liste[middle] == x :\n",
    "        # x a été trouvé son indice est middle\n",
    "        print(\"la valeur a été trouvée son indice est : \", middle)\n",
    "        break\n",
    "\n",
    "    elif Liste[middle] < x:\n",
    "        # la valeur recherchée est dans la partie supérieur du tableau \n",
    "        # => indice inférieur évolue\n",
    "        inf = middle+1\n",
    "    \n",
    "    else:\n",
    "        # la valeur recherchée est dans la partie inférieur du tableau \n",
    "        # => indice supérieur évolue\n",
    "        sup = middle-1   \n",
    "else :\n",
    "    print(\"la valeur n'est pas dans le tableau\")"
   ]
  },
  {
   "cell_type": "markdown",
   "metadata": {},
   "source": [
    "Que se passe-t-il lorsqu’on cherche un élément qui ne se trouve pas dans le tableau ?"
   ]
  },
  {
   "cell_type": "markdown",
   "metadata": {},
   "source": []
  },
  {
   "cell_type": "markdown",
   "metadata": {},
   "source": [
    "### Le tri à bulle. "
   ]
  },
  {
   "cell_type": "markdown",
   "metadata": {},
   "source": [
    "On commence par la séquence logique suivante :\n",
    "1. On commence à i = 0\n",
    "2. On compare les éléments d’indice i et i+1.<br> Si le second est plus petit que le premier, on permute\n",
    "les deux nombres.\n",
    "3. On se décale en suite d’un cran à i+1.<br>Si i+1 < n−1, on retourne à l’étape 2."
   ]
  },
  {
   "cell_type": "markdown",
   "metadata": {},
   "source": [
    "Commencer par écrire une fonction permutation qui permute deux éléments d'une liste"
   ]
  },
  {
   "cell_type": "code",
   "execution_count": 54,
   "metadata": {},
   "outputs": [
    {
     "name": "stdout",
     "output_type": "stream",
     "text": [
      "[1, 8, 2, 7, 3, 4, 6, 5, 9]\n",
      "[8, 1, 2, 7, 3, 4, 6, 5, 9]\n"
     ]
    }
   ],
   "source": [
    "Liste=[1,8,2,7,3,4,6,5,9]\n",
    "print(Liste)\n",
    "\n",
    "def permutation(L, i, j) :\n",
    "    if (L != None): \n",
    "        if (i<len(L) and j<len(L)) :\n",
    "            temp = L[i]\n",
    "            L[i] = L[j]\n",
    "            L[j] = temp\n",
    "        else:\n",
    "            print(\"les bornes sont incorrectes\")\n",
    "    else :\n",
    "        print(\"La liste n'existe pas\")\n",
    "    \n",
    "permutation(Liste,0,1)\n",
    "print(Liste)"
   ]
  },
  {
   "cell_type": "markdown",
   "metadata": {},
   "source": [
    "On cherche à décomposer le problème en des fonctions aussi petites que possibles puis à les assembler par\n",
    "la suite pour former la séquence décrite ci-dessus.\n",
    "\n",
    "Ecrire une fonction qui compare deux éléments consécutifs et les permute s’ils sont dans le mauvais ordre.\n",
    "On utilisera la fonction `permutation`"
   ]
  },
  {
   "cell_type": "code",
   "execution_count": 59,
   "metadata": {},
   "outputs": [
    {
     "name": "stdout",
     "output_type": "stream",
     "text": [
      "[1, 8, 2, 7, 3, 4, 6, 5, 9]\n",
      "[1, 2, 8, 7, 3, 4, 6, 5, 9]\n"
     ]
    }
   ],
   "source": [
    "Liste=[1,8,2,7,3,4,6,5,9]\n",
    "print(Liste)\n",
    "\n",
    "def permutation(L, i, j) :\n",
    "    if (L != None): \n",
    "        if (i<len(L) and j<len(L)) :\n",
    "            temp = L[i]\n",
    "            L[i] = L[j]\n",
    "            L[j] = temp\n",
    "        else:\n",
    "            print(\"les bornes sont incorrectes\")\n",
    "    else:\n",
    "        print(\"La liste n'existe pas\")\n",
    "\n",
    "def compare_permute(L,i) :\n",
    "    if (L != None):\n",
    "        if ((i+1)<len(L)) :\n",
    "            if (L[i]>L[i+1]) :\n",
    "               permutation(L,i,(i+1))\n",
    "        else:\n",
    "            print(\"les bornes sont incorrectes\")\n",
    "    else:\n",
    "        print(\"La liste n'existe pas\")\n",
    "\n",
    "        \n",
    "compare_permute(Liste,1)\n",
    "print(Liste)"
   ]
  },
  {
   "cell_type": "code",
   "execution_count": 50,
   "metadata": {},
   "outputs": [
    {
     "name": "stdout",
     "output_type": "stream",
     "text": [
      "[1, 8, 2, 3, 7, 4, 6, 5, 9]\n"
     ]
    }
   ],
   "source": [
    "compare_permute(Liste,3)\n",
    "print(Liste)"
   ]
  },
  {
   "cell_type": "markdown",
   "metadata": {},
   "source": [
    "on appelle la fonction compare_permute pour tous les entiers de i allant de 0 à len(L)−1."
   ]
  },
  {
   "cell_type": "code",
   "execution_count": 61,
   "metadata": {},
   "outputs": [
    {
     "name": "stdout",
     "output_type": "stream",
     "text": [
      "[1, 8, 2, 7, 3, 4, 6, 5, 9]\n",
      "[1, 2, 7, 3, 8, 4, 6, 5, 9]\n"
     ]
    }
   ],
   "source": [
    "Liste=[1,8,2,7,3,4,6,5,9]\n",
    "print(Liste)\n",
    "\n",
    "def permutation(L, i, j) :\n",
    "    if (L != None): \n",
    "        if (i<len(L) and j<len(L)) :\n",
    "            temp = L[i]\n",
    "            L[i] = L[j]\n",
    "            L[j] = temp\n",
    "        else:\n",
    "            print(\"les bornes sont incorrectes\")\n",
    "    else:\n",
    "        print(\"La liste n'existe pas\")\n",
    "\n",
    "def compare_permute(L,i) :\n",
    "    if (L != None):\n",
    "        if ((i+1)<len(L)) :\n",
    "            if (L[i]>L[i+1]) :\n",
    "               permutation(L,i,(i+1))\n",
    "        else:\n",
    "            print(\"les bornes sont incorrectes\")\n",
    "    else:\n",
    "        print(\"La liste n'existe pas\")\n",
    "\n",
    "def many_compare_permute (L) :\n",
    "    if (L != None):\n",
    "        n=len(L)\n",
    "        for i in range (0, N-1) :\n",
    "            compare_permute(L,i)\n",
    "    else :\n",
    "        print(\"La liste n'existe pas\")\n",
    "        \n",
    "many_compare_permute(Liste)\n",
    "print(Liste)"
   ]
  },
  {
   "cell_type": "markdown",
   "metadata": {},
   "source": [
    "Après l’exécution de la fonction `many_compare_permute` , peut-on considérer le tableau trié ?\n",
    "Pourquoi ?"
   ]
  },
  {
   "cell_type": "markdown",
   "metadata": {},
   "source": []
  },
  {
   "cell_type": "markdown",
   "metadata": {},
   "source": [
    "#### La fin\n",
    "Ecrire la fonction permettant de trier le tableau L par tri à bulle en utilisant les fonctions définies plus haut.\n",
    ":"
   ]
  },
  {
   "cell_type": "code",
   "execution_count": 93,
   "metadata": {},
   "outputs": [
    {
     "name": "stdout",
     "output_type": "stream",
     "text": [
      "['A', 'B', 'z', 'G', 'Z', 'H', 'O', 'P']\n",
      "['A', 'B', 'G', 'H', 'O', 'P', 'Z', 'z']\n"
     ]
    }
   ],
   "source": [
    "#Liste=[9,8,7,2,6,5]\n",
    "Liste=['A','B','z','G','Z','H','O','P']\n",
    "print(Liste)\n",
    "\n",
    "def permutation(L, i, j) :\n",
    "    if (L != None): \n",
    "        if (i<len(L) and j<len(L)) :\n",
    "            temp = L[i]\n",
    "            L[i] = L[j]\n",
    "            L[j] = temp\n",
    "        else:\n",
    "            print(\"les bornes sont incorrectes\")\n",
    "    else:\n",
    "        print(\"La liste n'existe pas\")\n",
    "\n",
    "def compare_permute(L,i) :\n",
    "    if (L != None):\n",
    "        if ((i+1)<len(L)) :\n",
    "            if (L[i]>L[i+1]) :\n",
    "               permutation(L,i,(i+1))\n",
    "        else:\n",
    "            print(\"les bornes sont incorrectes\")\n",
    "    else:\n",
    "        print(\"La liste n'existe pas\")\n",
    "\n",
    "def many_compare_permute(L) :\n",
    "    if (L != None):\n",
    "        n=len(L)\n",
    "        for i in range (0, n-1) :\n",
    "            compare_permute(L,i)\n",
    "    else :\n",
    "        print(\"La liste n'existe pas\")\n",
    "        \n",
    "def tri_bulle(L) :\n",
    "    if (L != None):\n",
    "        n=len(L)\n",
    "        i=0\n",
    "        while i< (n-1) :\n",
    "            if (L[i]>L[i+1]) :\n",
    "                many_compare_permute(L)\n",
    "                i=0\n",
    "            i+=1\n",
    "    else :\n",
    "        print(\"La liste n'existe pas\")\n",
    "            \n",
    "tri_bulle(Liste)\n",
    "print(Liste)"
   ]
  },
  {
   "cell_type": "markdown",
   "metadata": {},
   "source": [
    "**Bonus**\n",
    "- Comptez le nombre de comparaisons de la précédente méthode ? Peut-on faire mieux et comment ?\n",
    "- Modifiez les fonctions précédentes pour diminuer le nombre de comparaisons ?"
   ]
  },
  {
   "cell_type": "code",
   "execution_count": null,
   "metadata": {
    "collapsed": true
   },
   "outputs": [],
   "source": []
  },
  {
   "cell_type": "code",
   "execution_count": null,
   "metadata": {
    "collapsed": true
   },
   "outputs": [],
   "source": []
  },
  {
   "cell_type": "markdown",
   "metadata": {
    "deletable": false,
    "editable": false
   },
   "source": [
    "<hr>\n",
    "Copyright &copy; 2020 Hatem & Driss @NEEDEMAND"
   ]
  }
 ],
 "metadata": {
  "celltoolbar": "Aucun(e)",
  "kernelspec": {
   "display_name": "Python 3",
   "language": "python",
   "name": "python3"
  },
  "language_info": {
   "codemirror_mode": {
    "name": "ipython",
    "version": 3
   },
   "file_extension": ".py",
   "mimetype": "text/x-python",
   "name": "python",
   "nbconvert_exporter": "python",
   "pygments_lexer": "ipython3",
   "version": "3.8.3"
  }
 },
 "nbformat": 4,
 "nbformat_minor": 2
}
