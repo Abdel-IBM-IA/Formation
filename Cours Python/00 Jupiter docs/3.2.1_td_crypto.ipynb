{
 "cells": [
  {
   "cell_type": "markdown",
   "metadata": {
    "deletable": false,
    "editable": false
   },
   "source": [
    "<img src = \"images/logos.png\" width = 600, align = \"center\">\n",
    "<br>\n",
    "<h1 align=center><font size = 5>Crypto</font></h1> "
   ]
  },
  {
   "cell_type": "markdown",
   "metadata": {},
   "source": [
    "### Il était une fois ..."
   ]
  },
  {
   "cell_type": "markdown",
   "metadata": {},
   "source": [
    "<div class=\"pull-right\"><center><img src=\"http://wecn.rotaractfrance.org/wp-content/uploads/2018/05/photos-asterix-2.png\" width =\"200\"></div><br>César en son temps utilisait déjà le cryptage pour transmettre ses messages. Il remplaçait chaque lettre\n",
    "par sa suivante ou en avancant d'un pas donné.<br> A devenait B, B devenait C, et ainsi de suite.<br>\n",
    "Trop facile à decrypter !!!"
   ]
  },
  {
   "cell_type": "markdown",
   "metadata": {},
   "source": [
    "Blaise de Vigenère inventa aux alentours de 1586 (date de la publication de son livre Le traité des chiffres 6) un code plus complexe qui resista. Cette méthode de chiffrement résista jusqu’en 1854, année où Babbage élabora une méthode qui permettait de le casser."
   ]
  },
  {
   "cell_type": "markdown",
   "metadata": {},
   "source": [
    "Le code de Vigenère repose sur le carré de Vigenère: On est bien avancés !"
   ]
  },
  {
   "cell_type": "markdown",
   "metadata": {},
   "source": [
    "C'est un alphabet recopié et décalé d’un cran vers la gauche à chaque ligne.\n",
    "1. Séances dirigées\n",
    "15\n",
    "Première demi-heure : listes, boucles, fonctions\n",
    ".\n",
    "Mais tout d’abord voyons en quoi consiste le code de Vigenère et cela commence par la description du\n",
    "carré de Vigenère\n",
    ": un alphabet recopié et décalé d’un cran vers la gauche à chaque ligne.\n",
    "\n",
    "ABCDEFGHIJKLMNOPQRSTUVWXZ<br>\n",
    "BCDEFGHIJKLMNOPQRSTUVWXZA<br>\n",
    "CDEFGHIJKLMNOPQRSTUVWXZAB<br>\n",
    "DEFGHIJKLMNOPQRSTUVWXZABC<br>\n",
    "EFGHIJKLMNOPQRSTUVWXZABCD<br>\n",
    "FGHIJKLMNOPQRSTUVWXZABCDE<br>\n",
    "GHIJKLMNOPQRSTUVWXZABCDEF<br>\n",
    "HIJKLMNOPQRSTUVWXZABCDEFG<br>\n",
    "IJKLMNOPQRSTUVWXZABCDEFGH<br>\n",
    "JKLMNOPQRSTUVWXZABCDEFGHI<br>\n",
    "KLMNOPQRSTUVWXZABCDEFGHIJ<br>\n",
    "LMNOPQRSTUVWXZABCDEFGHIJK<br>\n",
    "MNOPQRSTUVWXZABCDEFGHIJKL<br>\n",
    "NOPQRSTUVWXZABCDEFGHIJKLM<br>\n",
    "OPQRSTUVWXZABCDEFGHIJKLMN<br>\n",
    "PQRSTUVWXZABCDEFGHIJKLMNO<br>\n",
    "QRSTUVWXZABCDEFGHIJKLMNOP<br>\n",
    "RSTUVWXZABCDEFGHIJKLMNOPQ<br>\n",
    "STUVWXZABCDEFGHIJKLMNOPQR<br>\n",
    "TUVWXZABCDEFGHIJKLMNOPQRS<br>\n",
    "UVWXZABCDEFGHIJKLMNOPQRST<br>\n",
    "VWXZABCDEFGHIJKLMNOPQRSTU<br>\n",
    "WXZABCDEFGHIJKLMNOPQRSTUV<br>\n",
    "XZABCDEFGHIJKLMNOPQRSTUVW<br>\n",
    "ZABCDEFGHIJKLMNOPQRSTUVWX<br>\n",
    "ABCDEFGHIJKLMNOPQRSTUVWXZ<br>"
   ]
  },
  {
   "cell_type": "markdown",
   "metadata": {},
   "source": [
    "En vous inspirant du script ci-dessous créer une fonction permettant de rerourner le fameux carré sous la forme d'une liste de 26 chaines de caractères."
   ]
  },
  {
   "cell_type": "code",
   "execution_count": null,
   "metadata": {},
   "outputs": [],
   "source": [
    "s = \"\"\n",
    "for i in range (0,26) :\n",
    "    s += chr (65+i)\n",
    "print(s)\n",
    "\n",
    "\n",
    "s = \"\"\n",
    "for i in range(0, 26):\n",
    "    s = \"\"\n",
    "    for j in range(i, (26 + i)):\n",
    "        s += chr(65 + (j % 26))\n",
    "    print(s + \"\\n\")"
   ]
  },
  {
   "cell_type": "code",
   "execution_count": null,
   "metadata": {},
   "outputs": [],
   "source": [
    "len(\"CODECODECODECODECODECODECODECODECODECODECODECODECODECODECODECODECODECODECODECOD\")"
   ]
  },
  {
   "cell_type": "markdown",
   "metadata": {},
   "source": [
    "**Le cryptage**\n",
    "Pour chiffrer un message, il faut une clé qui est un mot (existant ou non) en majuscules, par exemple\n",
    "CODE.<br>\n",
    "Tout d’abord, on va juxtaposer le messsage à coder (sans espaces ni caracteres spéciaux) et la clé répétée autant que nécessaire pour couvrir la longueur du message :<br>\n",
    "Exemple :<br>\n",
    "PASDEPIERRESPASDECONSTRUCTIONPASDECONSTRUCTIONPASDEPALAISPASDEPALAISPASDEPALAIS<br>\n",
    "CODECODECODECODECODECODECODECODECODECODECODECODECODECODECODECODECODECODECODECOD<br>\n",
    "\n",
    "A chaque lettre du message correspond ainsi une lettre de la clé et cette lettre va déterminer, à l’aide du\n",
    "carré de Vigenère, son équivalent crypté.<br><br>En effet, la première lettre du message P est associée à la lettre C\n",
    "de la clé, cette première lettre est remplacée par celle se trouvant à l’intersection de la ligne commençant\n",
    "par C et de la colonne commençant par P, cela donne R. On continue comme cela jusqu’à la fin du message"
   ]
  },
  {
   "cell_type": "markdown",
   "metadata": {
    "collapsed": true
   },
   "source": [
    "### Première fonction\n",
    "Ecrire une fonction `coder_lettre` qui prend une lettre du message, une lettre de la clé et qui retourne la lettre codée. Il est possible que les fonctions `ord` et `chr` soient utiles.<br>\n",
    "print chr(65)    # retourne la lettre correspondant au code 65 --> A<br> print ord(\"A\")    # retourne le code associé à la lettre \"A\" --> 65"
   ]
  },
  {
   "cell_type": "code",
   "execution_count": null,
   "metadata": {},
   "outputs": [],
   "source": [
    "def"
   ]
  },
  {
   "cell_type": "markdown",
   "metadata": {},
   "source": [
    "### Deuxième fonction\n",
    "Ecrire la fonction `cryptage` qui prend en argument le message à crypter, la clé et le carré de vigenere et qui retourne la chaine cryptée."
   ]
  },
  {
   "cell_type": "code",
   "execution_count": null,
   "metadata": {},
   "outputs": [],
   "source": []
  },
  {
   "cell_type": "markdown",
   "metadata": {},
   "source": [
    "### Troisième fonction\n",
    "Ecrire la fonction réciproque `decryptage`."
   ]
  },
  {
   "cell_type": "code",
   "execution_count": null,
   "metadata": {},
   "outputs": [],
   "source": []
  },
  {
   "cell_type": "markdown",
   "metadata": {},
   "source": [
    "### Ils sont fous ces romains !\n",
    "On souhaite appliquer le cryptage sur un texte plus grand en téléchargeant un texte depuis le site Gutenberg comme celui-ci de [Gill](http://www.gutenberg.org/ﬁles/30696/30696-h/30696-h.htm).<br>\n",
    "La librairie `urllib2`permet dèacceder aux fichiers en lignes."
   ]
  },
  {
   "cell_type": "code",
   "execution_count": null,
   "metadata": {},
   "outputs": [],
   "source": [
    "from urllib.request import urlopen\n",
    "f = urlopen(\"http://www.gutenberg.org/files/30696/30696-h/30696-h.htm\")\n",
    "text = f.read ()"
   ]
  },
  {
   "cell_type": "markdown",
   "metadata": {},
   "source": [
    "Proposer une solution pour supprimer les caractères spéciaux du texte téléchargé."
   ]
  },
  {
   "cell_type": "code",
   "execution_count": null,
   "metadata": {},
   "outputs": [],
   "source": []
  },
  {
   "cell_type": "markdown",
   "metadata": {},
   "source": [
    "Tester le cryptage piuis le decrypatge du texte de Gill."
   ]
  },
  {
   "cell_type": "code",
   "execution_count": null,
   "metadata": {},
   "outputs": [],
   "source": []
  },
  {
   "cell_type": "markdown",
   "metadata": {},
   "source": [
    "**On pourrait bien sur continuer...Mais ça suffira pour aujourd'hui. On arrete de décrypter !"
   ]
  },
  {
   "cell_type": "markdown",
   "metadata": {},
   "source": [
    "<img src=\"http://www.arteum.com/uploads/photos/11840/9602_xl.jpg\" width=\"400\">"
   ]
  },
  {
   "cell_type": "markdown",
   "metadata": {
    "deletable": false,
    "editable": false
   },
   "source": [
    "<hr>\n",
    "Copyright &copy; 2020 Hatem & Driss @NEEDEMAND"
   ]
  }
 ],
 "metadata": {
  "celltoolbar": "Aucun(e)",
  "kernelspec": {
   "display_name": "Python 3",
   "language": "python",
   "name": "python3"
  },
  "language_info": {
   "codemirror_mode": {
    "name": "ipython",
    "version": 3
   },
   "file_extension": ".py",
   "mimetype": "text/x-python",
   "name": "python",
   "nbconvert_exporter": "python",
   "pygments_lexer": "ipython3",
   "version": "3.8.3"
  }
 },
 "nbformat": 4,
 "nbformat_minor": 2
}
