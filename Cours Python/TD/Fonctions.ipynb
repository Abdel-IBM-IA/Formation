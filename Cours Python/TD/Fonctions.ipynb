{
 "cells": [
  {
   "cell_type": "markdown",
   "metadata": {},
   "source": [
    "# Fonctions en python"
   ]
  },
  {
   "cell_type": "markdown",
   "metadata": {},
   "source": [
    "## Exercice 1 : Comparer deux nombres\n",
    "\n",
    "Écrire la fonction compare() qui reçoit deux valeurs en argument a et b et affiche un message adapté selon que a est supérieur, inférieur ou égal à à b. Faire des essais en utilisant des entiers, des flottants et des chaînes de caractères. "
   ]
  },
  {
   "cell_type": "code",
   "execution_count": null,
   "metadata": {},
   "outputs": [],
   "source": [
    "import unicodedata\n",
    "\n",
    "\n",
    "def oterlesaccents(ch) :\n",
    "    \"\"\"Supprime les accents sans changer la casse (majuscules et minuscules)\"\"\"\n",
    "    r = u\"\"\n",
    "    for car in ch :\n",
    "        if car == u\"\\xA0\" : # Pour conserver les espaces (espaces insécables également)\n",
    "            r += car\n",
    "        else :\n",
    "            carNFKD = unicodedata.normalize('NFKD', car)\n",
    "            r += carNFKD[0]\n",
    "    return r\n",
    "\n",
    "\n",
    "def compare(a, b) :\n",
    "    \"\"\" Compare les deux arguments passés en entrée\n",
    "    et affiche un message adapté 'supérieur', 'inférieur' ou 'égal'.\n",
    "    Prise en compte des entiers, des flottants et des chaînes de caractères.\n",
    "    \"\"\"\n",
    "    result = \"\"\n",
    "    # On s'assure que les paramètres sont de même nature pour que la comparaison soit cohérente\n",
    "    if isinstance(a, str) and isinstance(b, str) :\n",
    "        # Pour la comparaison de chaines de caractère on adopte l'ordre alphabétique\n",
    "        # Les accents sont supprimés pour permettre\n",
    "        aNFKD = oterlesaccents(a)\n",
    "        bNFKD = oterlesaccents(b)\n",
    "\n",
    "        if aNFKD.upper() < bNFKD.upper() :  # La casse est prise en compte pour la comparaison\n",
    "            result = \"Dans l'ordre alphabétique '\" + a + \"' arrive avant '\" + b + \"'\"\n",
    "        elif aNFKD.upper() > bNFKD.upper() :\n",
    "            result = \"Dans l'ordre alphabétique '\" + a + \"' arrive aprés '\" + b + \"'\"\n",
    "        elif a==b:\n",
    "            result = \"La valeur de la chaine de caractère(s) des deux arguments passés est identique : \\\"\" + a + \"\\\"\"\n",
    "        else :\n",
    "            result = \"La valeur de la chaine de caractère(s) des deux arguments passés est équivalente : \\\"\" + a +\"\\\" et \\\"\" + b +\"\\\"\"\n",
    "\n",
    "    elif isinstance(a, (float, int)) and isinstance(b, (float, int)) :\n",
    "        # Pour la comparaison de nombres les deux paramètres sont convertis en instance float pour généraliser le cas\n",
    "\n",
    "        if float(a) < float(b) :\n",
    "            result = \"Le premier paramètre : \" + str(a) + \" est inférieur au second : \" + str(b)\n",
    "        elif float(a) > float(b) :\n",
    "            result = \"Le premier paramètre : \" + str(a) + \" est supérieur au second : \" + str(b)\n",
    "        else :\n",
    "            result = \"La valeur numérique des deux arguments passés est identique : \" + str(a)\n",
    "\n",
    "    else :\n",
    "        # Les deux paramètres ne sont pas de même nature ils ne sont pas comparables !\n",
    "        result = \"Les deux paramètres ne sont pas de même nature, et ne sont pas comparables \\ntype a :\" + str(type(a)) + \"\\ntype b :\" + str(type(b))\n",
    "\n",
    "    return result"
   ]
  },
  {
   "cell_type": "markdown",
   "metadata": {},
   "source": [
    "## Exercice 2 : Test de parité "
   ]
  },
  {
   "cell_type": "markdown",
   "metadata": {},
   "source": [
    "### Question 2.1 :\n",
    "\n",
    "Écrire la fonction estPair() qui affiche si un nombre reçu en paramètre est pair ou non. Faire des essais en utilisant des entiers, des flottants et des chaînes de caractères. Prévoir les résultats. \n"
   ]
  },
  {
   "cell_type": "code",
   "execution_count": 2,
   "metadata": {},
   "outputs": [
    {
     "name": "stdout",
     "output_type": "stream",
     "text": [
      "4 est un nombre pair\n",
      "5 est un nombre impair\n",
      "2.0 est un nombre pair\n",
      "5.0 est un nombre impair\n",
      "La valeur saisie n'est pas un nombre : e\n",
      "La valeur saisie n'est pas un nombre : azer\n",
      "La valeur à tester est nulle !\n"
     ]
    }
   ],
   "source": [
    "def estPair(nb) :\n",
    "    if isinstance(nb, (int, float)) :\n",
    "        if (nb % 2) == 0 :\n",
    "            print(str(nb) + \" est un nombre pair\")\n",
    "        else :\n",
    "            print(str(nb) + \" est un nombre impair\")\n",
    "    elif nb is None :\n",
    "        print(\"La valeur à tester est nulle !\")\n",
    "    else :\n",
    "        print(\"La valeur saisie n'est pas un nombre :\", nb)\n",
    "\n",
    "\n",
    "nb = 4\n",
    "estPair(nb)\n",
    "\n",
    "nb = 5\n",
    "estPair(nb)\n",
    "\n",
    "nb = 2.0\n",
    "estPair(nb)\n",
    "\n",
    "nb = 5.0\n",
    "estPair(nb)\n",
    "\n",
    "nb = 'e'\n",
    "estPair(nb)\n",
    "\n",
    "nb = \"azer\"\n",
    "estPair(nb)\n",
    "\n",
    "estPair(None)"
   ]
  },
  {
   "cell_type": "markdown",
   "metadata": {},
   "source": [
    "### Question 2.2 : \n",
    "\n",
    "Ré-écrire la fonction estPair() pour que cette dernière renvoie True si le nombre reçu en paramètre est pair, False sinon. Faire des essais en utilisant des entiers, des flottants et avec des chaînes de caractères. Prévoir les résultats. "
   ]
  },
  {
   "cell_type": "code",
   "execution_count": 8,
   "metadata": {},
   "outputs": [
    {
     "name": "stdout",
     "output_type": "stream",
     "text": [
      "4 est un nombre paire : True\n",
      "5 est un nombre paire : False\n",
      "2.0 est un nombre paire : True\n",
      "5.0 est un nombre paire : False\n",
      "e est un nombre paire : False\n",
      "azer est un nombre paire : False\n",
      "None est un nombre paire : False\n"
     ]
    },
    {
     "data": {
      "text/plain": [
       "False"
      ]
     },
     "execution_count": 8,
     "metadata": {},
     "output_type": "execute_result"
    }
   ],
   "source": [
    "def estPair(nb) :\n",
    "\n",
    "    if isinstance(nb, (int, float)) :\n",
    "        result = ((nb % 2) == 0)\n",
    "        print(str(nb) + \" est un nombre paire : \" + str(result))\n",
    "    else :\n",
    "        result = False\n",
    "        print(str(nb) + \" est un nombre paire : \" + str(result))\n",
    "    return result\n",
    "\n",
    "\n",
    "nb = 4\n",
    "estPair(nb)\n",
    "\n",
    "nb = 5\n",
    "estPair(nb)\n",
    "\n",
    "nb = 2.0\n",
    "estPair(nb)\n",
    "\n",
    "nb = 5.0\n",
    "estPair(nb)\n",
    "\n",
    "nb = 'e'\n",
    "estPair(nb)\n",
    "\n",
    "nb = \"azer\"\n",
    "estPair(nb)\n",
    "\n",
    "estPair(None)"
   ]
  },
  {
   "cell_type": "markdown",
   "metadata": {},
   "source": [
    "## Exercice 3 : Moyenne de deux nombres\n",
    "\n",
    "Écrire la fonction qui reçoit deux nombres en arguments et qui calcule et renvoie leur moyenne. Quel est le problème si les deux nombres sont entiers? Quelle solution proposez-vous? "
   ]
  },
  {
   "cell_type": "code",
   "execution_count": 3,
   "metadata": {},
   "outputs": [
    {
     "name": "stdout",
     "output_type": "stream",
     "text": [
      "\n",
      "\n",
      "4\n",
      "5\n",
      "La moyenne de 4 et 5 est : 4.5\n",
      "\n",
      "\n",
      "2.0\n",
      "5\n",
      "La moyenne de 2.0 et 5 est : 3.5\n",
      "\n",
      "\n",
      "2.0\n",
      "5.0\n",
      "La moyenne de 2.0 et 5.0 est : 3.5\n",
      "\n",
      "\n",
      "None\n",
      "5.0\n",
      "Le premier paramètre est null\n",
      "\n",
      "\n",
      "None\n",
      "None\n",
      "Les deux paramètres sont null\n",
      "\n",
      "\n",
      "e\n",
      "5.0\n",
      "Le premier paramètre n'est pas numérique\n",
      "\n",
      "\n",
      "e\n",
      "azer\n",
      "Les deux paramètres ne sont pas numériques\n",
      "\n",
      "\n",
      "2 arguments attendus, nombre argument(s) reçu(s) :  1\n"
     ]
    }
   ],
   "source": [
    "def moyennede2(*args) :\n",
    "    print(\"\\n\")\n",
    "    if len(args) == 2 :\n",
    "        print(args[0])\n",
    "        print(args[1])\n",
    "        if isinstance(args[0], (int, float)) and isinstance(args[1], (int, float)) :\n",
    "            result = (float(args[0]) + float(nb2)) / 2\n",
    "            print(\"La moyenne de \" + str(args[0]) + \" et \" + str(args[1]) + \" est : \" + str(result))\n",
    "            return result\n",
    "        else :\n",
    "            if isinstance(args[0], str) :\n",
    "                if isinstance(args[1], str) :\n",
    "                    print(\"Les deux paramètres ne sont pas numériques\")\n",
    "                elif isinstance(args[1], type(None)) :\n",
    "                    print(\"Le premier paramètre n'est pas numérique et le second est null\")\n",
    "                else :\n",
    "                    print(\"Le premier paramètre n'est pas numérique\")\n",
    "            elif isinstance(args[0], type(None)) :\n",
    "                if isinstance(args[1], type(None)) :\n",
    "                    print(\"Les deux paramètres sont null\")\n",
    "                elif isinstance(args[1], str):\n",
    "                    print(\"Le premier paramètre est null et le second n'est pas numérique\")\n",
    "                else :\n",
    "                    print(\"Le premier paramètre est null\")\n",
    "            else :\n",
    "                if isinstance(args[1], type(None)) :\n",
    "                    print(\"Le second paramètre est null\")\n",
    "                elif isinstance(args[1], str) :\n",
    "                    print(\"Le second paramètre n'est pas numérique\")\n",
    "    else :\n",
    "        print(\"2 arguments attendus, nombre argument(s) reçu(s) : \", len(args))\n",
    "\n",
    "\n",
    "nb1 = 4\n",
    "nb2 = 5\n",
    "moyennede2(nb1, nb2)\n",
    "\n",
    "nb1 = 2.0\n",
    "nb2 = 5\n",
    "moyennede2(nb1, nb2)\n",
    "\n",
    "nb1 = 2.0\n",
    "nb2 = 5.0\n",
    "moyennede2(nb1, nb2)\n",
    "\n",
    "nb1 = None\n",
    "nb2 = 5.0\n",
    "moyennede2(nb1, nb2)\n",
    "\n",
    "nb1 = None\n",
    "nb2 = None\n",
    "moyennede2(nb1, nb2)\n",
    "\n",
    "nb1 = 'e'\n",
    "nb2 = 5.0\n",
    "moyennede2(nb1, nb2)\n",
    "\n",
    "nb1 = 'e'\n",
    "nb2 = \"azer\"\n",
    "moyennede2(nb1, nb2)\n",
    "\n",
    "nb1 = 2.0\n",
    "moyennede2(nb1)"
   ]
  },
  {
   "cell_type": "markdown",
   "metadata": {},
   "source": [
    "## Exercice 4 : Année bissextile \n",
    "Écrire une fonction qui permet de déterminer si une année est bissextile. \n",
    "\n",
    "On rappelle qu’une année est bissextile si \n",
    "elle est divisible par 4 \n",
    "mais n’est pas divisible par 100 \n",
    "sauf si elle est divisible par 400\n",
    "Ainsi 2008 était bissextile, 1900 n’était pas bissextile et 2000 était bissextile. \n",
    "\n"
   ]
  },
  {
   "cell_type": "code",
   "execution_count": 1,
   "metadata": {},
   "outputs": [
    {
     "name": "stdout",
     "output_type": "stream",
     "text": [
      "L'annee 2000 est une annee bissextile!\n",
      "L'annee 1900 n'est pas une annee bissextile!\n",
      "L'annee 2008 est une annee bissextile!\n",
      "La saisie est erronnée, veuillez saisir un nombre entier pour l'année :\n",
      "La saisie est erronnée, veuillez saisir un nombre entier pour l'année :\n"
     ]
    }
   ],
   "source": [
    "def isBissextileYear(annee) :\n",
    "    if isinstance(annee, int) :\n",
    "        if annee % 4 == 0 and (annee % 100 != 0 or annee % 400 == 0) :\n",
    "            print(\"L'annee \"+str(annee)+\" est une annee bissextile!\")\n",
    "        else :\n",
    "            print(\"L'annee \"+str(annee)+\" n'est pas une annee bissextile!\")\n",
    "    else :\n",
    "        print(\"La saisie est erronnée, veuillez saisir un nombre entier pour l'année :\")\n",
    "\n",
    "\n",
    "isBissextileYear(2000)\n",
    "isBissextileYear(1900)\n",
    "isBissextileYear(2008)\n",
    "isBissextileYear(\"Noefene\")\n",
    "isBissextileYear(None)"
   ]
  },
  {
   "cell_type": "markdown",
   "metadata": {},
   "source": [
    "## Exercice 5 : Lancer de dés \n",
    "\n",
    "Le but de cet exercice est de créer des fonctions permettant de simuler des lancers de dés. \n",
    "Lancer un dé correspond, d’un point de vue informatique, à tirer un entier aléatoire entre 1 et 6 inclus. Ceci se fait à l’aide de la fonction randint() contenue dans la bibliothèque random. Le code suivant permet de simuler le lancer d’un dé et d’afficher le résultat du lancer. \n",
    "```\n",
    "#nécessaire pour pouvoir utiliser la fonction randint()\n",
    "from random import * \n",
    "de = randint(1,6) \n",
    "print(’lancer : ’ + str(de))\n",
    "```"
   ]
  },
  {
   "cell_type": "markdown",
   "metadata": {},
   "source": [
    "### Question 5.1 : \n",
    "\n",
    "Créer une fonction qui simule le lancer de deux dés et renvoie la somme. Utiliser cette fonction pour afficher le résultat d’un lancer de deux dés. \n",
    "\n"
   ]
  },
  {
   "cell_type": "code",
   "execution_count": null,
   "metadata": {},
   "outputs": [],
   "source": [
    "from random import *\n",
    "\n",
    "\n",
    "def jet2De() :\n",
    "    de = randint(1, 6)\n",
    "    print(\"lancer: \" + str(de))\n",
    "\n",
    "\n",
    "jet2De()"
   ]
  },
  {
   "cell_type": "markdown",
   "metadata": {},
   "source": [
    "### Question 5.2 : \n",
    "\n",
    "Créer une fonction qui simule le lancer d’un nombre quelconque de dés donné en paramètre. Utiliser cette fonction pour afficher le résultat d’un lancer de deux dés puis de trois dés."
   ]
  },
  {
   "cell_type": "code",
   "execution_count": null,
   "metadata": {},
   "outputs": [],
   "source": [
    "def jetNDe(nb) :\n",
    "    if isinstance(nb, int) : \n",
    "        for cpt in range(nb) : \n",
    "            de = randint(1, 6)\n",
    "            print(\"lancer \" + str(cpt + 1) + \": \" + str(de))\n",
    "        print(\"\\n\")\n",
    "    else : \n",
    "        print(\"La saisie est erronnée, veuillez saisir un nombre entier pour le nombre de lancer de dé(s) :\")\n",
    "\n",
    "\n",
    "print(\"jet de 2 dés\")\n",
    "jetNDe(2)\n",
    "print(\"jet de 3 dés\")\n",
    "jetNDe(3)"
   ]
  },
  {
   "cell_type": "markdown",
   "metadata": {},
   "source": [
    "## Exercice 6 : Suite de carrés \n",
    "\n",
    "Écrire une fonction qui permet d’afficher la suite des carrés jusqu’à n2 où n est un entier choisi par l’utilisateur. \n",
    "\n",
    "L’affichage se fera sous la forme \n",
    "0 − 1 − 4 − 9 − 16 − 25 − 36 − 49 − 64 − 81 − 100...\n",
    "\n",
    "Dans l’exemple suivant l’entier n est égal à 6 : 0−1−4−9−16−25−36. "
   ]
  },
  {
   "cell_type": "code",
   "execution_count": 4,
   "metadata": {},
   "outputs": [
    {
     "name": "stdout",
     "output_type": "stream",
     "text": [
      "0 - 1 - 4 - 9 - 16 - 25 - 36 - 49 - 64 - 81 - 100\n"
     ]
    }
   ],
   "source": [
    "def listeNCarre(nb) :\n",
    "    if isinstance(nb, int) :\n",
    "        result = \"\"\n",
    "        for cpt in range(nb) :\n",
    "            result += str(cpt*cpt) + \" - \"\n",
    "        result = result[:-3] # Supprime les trois derniers caractères\n",
    "        print(result) \n",
    "    else :\n",
    "        print(\"La saisie est erronnée, veuillez saisir un nombre entier pour le nombre :\")\n",
    "\n",
    "\n",
    "listeNCarre(11)"
   ]
  },
  {
   "cell_type": "markdown",
   "metadata": {},
   "source": [
    "## Exercice 7 : Produit d’entiers \n",
    "\n",
    "Écrire une fonction produit() qui calcule et renvoie le produit n1∗(n1+1)∗...∗n2 (tels que 1<=n1<= n2) des entiers compris entre n1 et n2 inclus. "
   ]
  },
  {
   "cell_type": "code",
   "execution_count": 6,
   "metadata": {},
   "outputs": [
    {
     "name": "stdout",
     "output_type": "stream",
     "text": [
      "20\n",
      "12\n",
      "NotImplemented\n",
      "NotImplemented\n"
     ]
    }
   ],
   "source": [
    "def produitEntierIntervalle(nb1, nb2):\n",
    "    \"\"\"Calcul le produit des entiers compris entre deux entiers naturels positifs\n",
    "    Renvoie la valeur NotImplemented si les bornes ne sont pas des entiers naturels positifs ou null\"\"\"\n",
    "    if isinstance(nb1, int) and isinstance(nb2, int) and 0 < nb1 and 0 < nb2:\n",
    "        result = 1\n",
    "        if nb1 <= nb2:\n",
    "            for i in range(nb1, nb2):\n",
    "                result = result * i\n",
    "        else:\n",
    "            for i in range(nb2, nb1):\n",
    "                result = result * i\n",
    "        return result\n",
    "    else:\n",
    "        return NotImplemented\n",
    "\n",
    "\n",
    "nb1 = 4\n",
    "nb2 = 6\n",
    "print(produitEntierIntervalle(nb1, nb2))\n",
    "\n",
    "nb1 = 5\n",
    "nb2 = 3\n",
    "print(produitEntierIntervalle(nb1, nb2))\n",
    "\n",
    "nb1 = -1\n",
    "nb2 = -1\n",
    "print(produitEntierIntervalle(nb1, nb2))\n",
    "\n",
    "nb1 = 1\n",
    "nb2 = None\n",
    "print(produitEntierIntervalle(nb1, nb2))"
   ]
  },
  {
   "cell_type": "markdown",
   "metadata": {},
   "source": [
    "## Exercice 8 : Échange de variables\n",
    "\n",
    "Écrire une fonction swap(u,v) qui sert à échanger les valeurs de 2 variables u et v passées en arguments. \n",
    "\n",
    "Cette fonction est-elle utile? \n",
    "\n",
    "À quels types s’applique-t-elle? "
   ]
  },
  {
   "cell_type": "code",
   "execution_count": null,
   "metadata": {},
   "outputs": [],
   "source": [
    "from copy import copy\n",
    "\n",
    "\n",
    "def swap(var1, var2):\n",
    "    \"\"\" Permet d'échanger les valeurs de 2 variables passées en arguments\n",
    "    Les deux variables doivent être de même type\"\"\"\n",
    "    return copy(var2), copy(var1)\n",
    "\n",
    "# Fonction moyennement utile\n",
    "# Elle s'applique uniquement au entier et float => les deux variables doivent être de même type "
   ]
  },
  {
   "cell_type": "markdown",
   "metadata": {},
   "source": [
    "## Exercice 9 : Comptage des éléments d’un tableau\n",
    "Écrire une fonction nbPairImpair() qui renvoie le nombre d’élément(s) pair(s) et le nombre d’élément(s) impair(s) dans le tableau reçu en argument. "
   ]
  },
  {
   "cell_type": "code",
   "execution_count": 1,
   "metadata": {},
   "outputs": [
    {
     "name": "stdout",
     "output_type": "stream",
     "text": [
      "La liste des entiers pair est :  [10, 30, 26, 22, 4, 32]\n",
      "La liste des entiers impair est :  [21, 45, 17, 13, 11, 9, 3, 5, 7, 43]\n",
      "None\n"
     ]
    }
   ],
   "source": [
    "def extract(uneList):\n",
    "    # Teste la validite de la liste\n",
    "    if uneList is not None:\n",
    "        # Teste le type entier pour toutes les occurences\n",
    "        if all(type(x) == int for x in uneList):\n",
    "            listNbPair = []\n",
    "            listNbImpair = []\n",
    "            for nb in uneList:\n",
    "                if nb % 2 == 0:\n",
    "                    listNbPair.append(nb)\n",
    "                else:\n",
    "                    listNbImpair.append(nb)\n",
    "            print(\"La liste des entiers pair est : \", listNbPair)\n",
    "            print(\"La liste des entiers impair est : \", listNbImpair)\n",
    "        else:\n",
    "            return NotImplemented\n",
    "    else:\n",
    "        return NotImplemented\n",
    "\n",
    "\n",
    "testList = [10, 21, 30, 45, 26, 17, 22, 13, 11, 4, 9, 3, 5, 7, 32, 43]\n",
    "print(extract(testList))\n"
   ]
  },
  {
   "cell_type": "markdown",
   "metadata": {},
   "source": [
    "## Exercice 10 : Décalage des éléments d’un tableau à droite\n",
    "Écrire une fonction decaleCircDroite() qui réalise le décalage circulaire vers la droite d’un tableau d’entiers. \n",
    "Voici un exemple d’utilisation de cette fonction : \n",
    "- Avant décalage circulaire a droite [12, 21, 10, 11, 0, 1, 6, 8]\n",
    "- Après décalage circulaire a droite [8, 12, 21, 10, 11, 0, 1, 6] "
   ]
  },
  {
   "cell_type": "code",
   "execution_count": null,
   "metadata": {},
   "outputs": [],
   "source": [
    "def decaleCircDroite(uneList):\n",
    "    \"\"\" Réalise le décalage circulaire vers la droite d’un tableau d’entiers\"\"\"\n",
    "    print(decaleCircDroite.__doc__)\n",
    "    print(\"Ma liste avant decalage : \")\n",
    "    print(uneList)\n",
    "    # Teste la validite de la liste\n",
    "    if uneList is not None:\n",
    "        uneList.insert(0, uneList[-1])\n",
    "        # Inserè le dernier élément en debut de liste indice 0\n",
    "        uneList.pop(-1)\n",
    "        # Suppression de l'élément d'index -1 (dernier)\n",
    "        print(\"Ma liste aprés decalage : \")\n",
    "        print(uneList)\n",
    "        return uneList\n",
    "    else:\n",
    "        return NotImplemented\n",
    "\n",
    "\n",
    "testList = [10, 21, 30, 45, 26, 17, 22, 13, 11, 4, 9, 3, 5, 7, 32, 43]\n",
    "decaleCircDroite(testList)\n"
   ]
  },
  {
   "cell_type": "markdown",
   "metadata": {},
   "source": [
    "## Exercice 11 : Rappel sur binaire"
   ]
  },
  {
   "cell_type": "markdown",
   "metadata": {},
   "source": [
    "### Question 11.1 : Du binaire vers le décimal. \n",
    "Écrire une fonction bin2Dec() qui permet de convertir une chaîne de caractères contenant la représentation binaire d’un nombre (codage entier naturel) en sa représentation décimale. \n",
    "\n",
    "Exemple d’utilisation : \n",
    "```\n",
    "nBin='10000001' \n",
    "nDec = bin2Dec(nBin) \n",
    "print('Le nombre binaire',nBin, 'se convertit en base 10 :', nDec)\n",
    "```"
   ]
  },
  {
   "cell_type": "code",
   "execution_count": null,
   "metadata": {},
   "outputs": [],
   "source": [
    "def bin2Dec(nbBinaire):\n",
    "    binaryCheck = re.compile('[0-1]')\n",
    "    if not isinstance('str', type(nbBinaire)):\n",
    "        nbBinaire = str(nbBinaire)\n",
    "    if nbBinaire[0:2] != '0b':\n",
    "        nbBinaire = '0b' + nbBinaire\n",
    "    if binaryCheck.match(nbBinaire[2:]):\n",
    "        return int(nbBinaire, 2)\n",
    "    else:\n",
    "        NotImplemented"
   ]
  },
  {
   "cell_type": "markdown",
   "metadata": {},
   "source": [
    "### Question 12.2 : Du décimal vers le binaire. \n",
    "Écrire une fonction qui calcule l’écriture en base 2 d’un nombre entier positif passé en argument sous sa forme décimale. Le résultat pour 5 sera 101."
   ]
  },
  {
   "cell_type": "code",
   "execution_count": null,
   "metadata": {},
   "outputs": [],
   "source": [
    "def dec2Bin2(nbDecimal):\n",
    "    return format(nbDecimal, '064b')\n",
    "\n",
    "\n",
    "nDecimal = 9\n",
    "dec2Bin(nDecimal)\n",
    "print('Le nombre ', nDecimal, 'se convertit en binaire en :', dec2Bin(nDecimal))"
   ]
  }
 ],
 "metadata": {
  "kernelspec": {
   "display_name": "Python 3",
   "language": "python",
   "name": "python3"
  },
  "language_info": {
   "codemirror_mode": {
    "name": "ipython",
    "version": 3
   },
   "file_extension": ".py",
   "mimetype": "text/x-python",
   "name": "python",
   "nbconvert_exporter": "python",
   "pygments_lexer": "ipython3",
   "version": "3.7.3"
  }
 },
 "nbformat": 4,
 "nbformat_minor": 2
}
