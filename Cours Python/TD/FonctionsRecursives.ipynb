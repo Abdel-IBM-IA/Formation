{
 "cells": [
  {
   "cell_type": "markdown",
   "metadata": {},
   "source": [
    "# Récursivité\n"
   ]
  },
  {
   "cell_type": "markdown",
   "metadata": {},
   "source": [
    "## Définition\n",
    "Une fonction récursive est une fonction qui s'appelle elle même."
   ]
  },
  {
   "cell_type": "markdown",
   "metadata": {},
   "source": [
    "## Exercice 1 : somme des premiers entiers\n",
    "Rédiger un algorithme récursif de calcul de la somme des n premiers entiers, où n ≥ 1 est fourni par l'utilisateur.\n"
   ]
  },
  {
   "cell_type": "code",
   "execution_count": 2,
   "metadata": {},
   "outputs": [
    {
     "name": "stdout",
     "output_type": "stream",
     "text": [
      "La somme des 10 premiers nombres entiers est : 55\n",
      "\n",
      "\n"
     ]
    }
   ],
   "source": [
    "def sommeEntiers(nbEntier):\n",
    "    sommeNb = 0\n",
    "    if isinstance(nbEntier, int):\n",
    "        if nbEntier > 0:\n",
    "            sommeNb += sommeEntiers(nbEntier - 1)\n",
    "        sommeNb += nbEntier\n",
    "        return sommeNb\n",
    "    else:\n",
    "        NotImplemented\n",
    "\n",
    "\n",
    "nb = 10\n",
    "somme = sommeEntiers(nb)\n",
    "print('La somme des', nb, 'premiers nombres entiers est :', somme)\n",
    "print('\\n')"
   ]
  },
  {
   "cell_type": "markdown",
   "metadata": {},
   "source": [
    "## Exercice 2 : calcul d'une puissance\n",
    "\n",
    "En remarquant que\n",
    "\n",
    "```\n",
    "x**3 = x**2 * x\n",
    "x**4 = x**3 * X\n",
    "```\n",
    "(ainsi de suite), rédiger un algorithme récursif de calcul de , où  et  sont fournis par l'utilisateur.\n",
    "\n"
   ]
  },
  {
   "cell_type": "code",
   "execution_count": 5,
   "metadata": {},
   "outputs": [
    {
     "name": "stdout",
     "output_type": "stream",
     "text": [
      "2 puissance 5  vaut :  32\n",
      "\n",
      "\n"
     ]
    }
   ],
   "source": [
    "def calculPuissance(nbEntier, puissanceN):\n",
    "    result = 1\n",
    "    if isinstance(nbEntier, int) and isinstance(puissanceN, int):\n",
    "        if puissanceN == 0:\n",
    "            return result\n",
    "        if nbEntier > 1 and puissanceN > 0:\n",
    "            result *= calculPuissance(nbEntier, puissanceN - 1)\n",
    "            result *= nbEntier\n",
    "        return result\n",
    "    else:\n",
    "        NotImplemented\n",
    "\n",
    "\n",
    "x = 2\n",
    "n = 5\n",
    "xPuissanceN = calculPuissance(x, n)\n",
    "print(x, 'puissance', n, ' vaut : ', xPuissanceN)\n",
    "print('\\n')"
   ]
  },
  {
   "cell_type": "markdown",
   "metadata": {},
   "source": [
    "## Exercice 3 : suite de Fibonacci\n",
    "On rappelle que la suite de Fibonacci est la suite numérique (fn) définie par f0 = f1 = 1 et fn = fn-1 + fn-2 pour tout entier n ≥ 2. ",
    "Ainsi, pour calculer un terme, il suffit de calculer les deux termes précédents.\n",
    "Rédiger un algorithme récursif de calcul du nième terme de la suite de Fibonacci, pour un entier n fourni par l'utilisateur.\n",
    "\n",
    "\n"
   ]
  },
  {
   "cell_type": "code",
   "execution_count": 1,
   "metadata": {},
   "outputs": [
    {
     "name": "stdout",
     "output_type": "stream",
     "text": [
      "Le terme de rang  10  dans la suite de fibonacci est :\n",
      " 89\n",
      "\n",
      "\n"
     ]
    }
   ],
   "source": [
    "def termeFibonacci(nbEntier):\n",
    "    nIemefibo = 0\n",
    "    if isinstance(nbEntier, int) and 0 <= nbEntier:\n",
    "        if 0 <= nbEntier < 2:\n",
    "            nIemefibo = 1\n",
    "        else:\n",
    "            nIemefibo = termeFibonacci(nbEntier - 1) + termeFibonacci(nbEntier - 2)\n",
    "        return nIemefibo\n",
    "    else:\n",
    "        NotImplemented\n",
    "\n",
    "\n",
    "nb = 10\n",
    "suitefibo = termeFibonacci(nb)\n",
    "print(\"Le terme de rang \", nb, \" dans la suite de fibonacci est :\\n\", suitefibo)\n",
    "print('\\n')"
   ]
  },
  {
   "cell_type": "code",
   "execution_count": null,
   "metadata": {},
   "outputs": [],
   "source": []
  }
 ],
 "metadata": {
  "kernelspec": {
   "display_name": "Python 3",
   "language": "python",
   "name": "python3"
  },
  "language_info": {
   "codemirror_mode": {
    "name": "ipython",
    "version": 3
   },
   "file_extension": ".py",
   "mimetype": "text/x-python",
   "name": "python",
   "nbconvert_exporter": "python",
   "pygments_lexer": "ipython3",
   "version": "3.7.3"
  }
 },
 "nbformat": 4,
 "nbformat_minor": 2
}
