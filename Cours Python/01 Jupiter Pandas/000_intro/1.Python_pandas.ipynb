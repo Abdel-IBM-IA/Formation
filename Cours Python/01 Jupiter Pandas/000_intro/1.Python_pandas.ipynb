{
 "cells": [
  {
   "cell_type": "markdown",
   "metadata": {},
   "source": [
    "<img src = \"data/logos.png\" width = 600, align = \"center\">\n",
    "<br>\n",
    "<h1 align=center><font size = 5>Pandi Pandas</font></h1> "
   ]
  },
  {
   "cell_type": "markdown",
   "metadata": {},
   "source": [
    "# Premiers pas du Pandas\n",
    "\n",
    "**pandas** est un package Python permettant de manipuler les données dans des structures simples d'utilisation. Les données sont rangées dans des tableaux et de nombreuses méthodes permettent de\n",
    "\n",
    "pandas est adapté aux :\n",
    "\n",
    "- données tabulaires dont les colonnes sont de types hétérogenes comme des tables SQL ou des classeurs excel.\n",
    "- séries temporelles.\n",
    "- matrices dont les lignes et colonnes sont labellisées.\n"
   ]
  },
  {
   "cell_type": "code",
   "execution_count": 3,
   "metadata": {},
   "outputs": [],
   "source": [
    "import pandas as pd\n",
    "import numpy as np"
   ]
  },
  {
   "cell_type": "markdown",
   "metadata": {},
   "source": [
    "## Structures de données Pandas"
   ]
  },
  {
   "cell_type": "markdown",
   "metadata": {},
   "source": [
    "### Series\n",
    "\n",
    "Une **Series** est un vecteur de données (sorte de array Numpy) muni d'un *index* qui étiquette chaque élement du vecteur (tableau associatif)."
   ]
  },
  {
   "cell_type": "code",
   "execution_count": 4,
   "metadata": {},
   "outputs": [
    {
     "data": {
      "text/plain": [
       "0    314\n",
       "1    314\n",
       "2    401\n",
       "3    342\n",
       "dtype: object"
      ]
     },
     "execution_count": 4,
     "metadata": {},
     "output_type": "execute_result"
    }
   ],
   "source": [
    "calories = pd.Series([314,314,401,\"342\"])\n",
    "calories"
   ]
  },
  {
   "cell_type": "markdown",
   "metadata": {},
   "source": [
    "Un index qui n'est pas spécifié est remplacé par une numérotation démarrant a 0. On peut considérer l'index et les valeurs comme des attributs de la `Series`. Il s'agit cependant d'objet de types différents :"
   ]
  },
  {
   "cell_type": "code",
   "execution_count": 5,
   "metadata": {},
   "outputs": [
    {
     "data": {
      "text/plain": [
       "array([314, 314, 401, '342'], dtype=object)"
      ]
     },
     "execution_count": 5,
     "metadata": {},
     "output_type": "execute_result"
    }
   ],
   "source": [
    "calories.values"
   ]
  },
  {
   "cell_type": "code",
   "execution_count": 6,
   "metadata": {},
   "outputs": [
    {
     "data": {
      "text/plain": [
       "numpy.ndarray"
      ]
     },
     "execution_count": 6,
     "metadata": {},
     "output_type": "execute_result"
    }
   ],
   "source": [
    "type(calories.values)"
   ]
  },
  {
   "cell_type": "code",
   "execution_count": 7,
   "metadata": {},
   "outputs": [
    {
     "data": {
      "text/plain": [
       "RangeIndex(start=0, stop=4, step=1)"
      ]
     },
     "execution_count": 7,
     "metadata": {},
     "output_type": "execute_result"
    }
   ],
   "source": [
    "calories.index"
   ]
  },
  {
   "cell_type": "code",
   "execution_count": 8,
   "metadata": {},
   "outputs": [
    {
     "data": {
      "text/plain": [
       "pandas.core.indexes.range.RangeIndex"
      ]
     },
     "execution_count": 8,
     "metadata": {},
     "output_type": "execute_result"
    }
   ],
   "source": [
    "type(calories.index)"
   ]
  },
  {
   "cell_type": "markdown",
   "metadata": {},
   "source": [
    "Il est préférable d'assigner aux index des valeurs compréhensibles ayant un sens correspondant au contexte :"
   ]
  },
  {
   "cell_type": "code",
   "execution_count": 9,
   "metadata": {},
   "outputs": [
    {
     "data": {
      "text/plain": [
       "Carredelest    314\n",
       "Babybel        314\n",
       "Beaufort       401\n",
       "Bleu           342\n",
       "dtype: int64"
      ]
     },
     "execution_count": 9,
     "metadata": {},
     "output_type": "execute_result"
    }
   ],
   "source": [
    "fromages = pd.Series([314,314,401,342], \n",
    "    index=['Carredelest', 'Babybel', 'Beaufort', 'Bleu'])\n",
    "\n",
    "fromages"
   ]
  },
  {
   "cell_type": "markdown",
   "metadata": {},
   "source": [
    "Ces étiquettes ou ` labels` sont les clés d'acces aux valeurs de la `serie`."
   ]
  },
  {
   "cell_type": "code",
   "execution_count": 10,
   "metadata": {},
   "outputs": [
    {
     "data": {
      "text/plain": [
       "314"
      ]
     },
     "execution_count": 10,
     "metadata": {},
     "output_type": "execute_result"
    }
   ],
   "source": [
    "fromages['Babybel']"
   ]
  },
  {
   "cell_type": "code",
   "execution_count": 11,
   "metadata": {},
   "outputs": [
    {
     "data": {
      "text/plain": [
       "Babybel    314\n",
       "dtype: int64"
      ]
     },
     "execution_count": 11,
     "metadata": {},
     "output_type": "execute_result"
    }
   ],
   "source": [
    "fromages[[name.endswith('el') for name in fromages.index]]"
   ]
  },
  {
   "cell_type": "code",
   "execution_count": 12,
   "metadata": {},
   "outputs": [
    {
     "data": {
      "text/plain": [
       "[False, True, False, False]"
      ]
     },
     "execution_count": 12,
     "metadata": {},
     "output_type": "execute_result"
    }
   ],
   "source": [
    "[name.endswith('el') for name in fromages.index]"
   ]
  },
  {
   "cell_type": "markdown",
   "metadata": {},
   "source": [
    "Il reste cependant possible d'utiliser l'indexation par défaut a valeurs numériques :"
   ]
  },
  {
   "cell_type": "code",
   "execution_count": 13,
   "metadata": {},
   "outputs": [
    {
     "data": {
      "text/plain": [
       "314"
      ]
     },
     "execution_count": 13,
     "metadata": {},
     "output_type": "execute_result"
    }
   ],
   "source": [
    "fromages[0]"
   ]
  },
  {
   "cell_type": "markdown",
   "metadata": {},
   "source": [
    "Les valeurs comme l'index peuvent etre nommés de maniere explicite :"
   ]
  },
  {
   "cell_type": "code",
   "execution_count": 14,
   "metadata": {},
   "outputs": [
    {
     "data": {
      "text/plain": [
       "nom\n",
       "Carredelest    314\n",
       "Babybel        314\n",
       "Beaufort       401\n",
       "Bleu           342\n",
       "Name: nombre, dtype: int64"
      ]
     },
     "execution_count": 14,
     "metadata": {},
     "output_type": "execute_result"
    }
   ],
   "source": [
    "fromages.name = 'nombre'\n",
    "fromages.index.name = 'nom'\n",
    "fromages"
   ]
  },
  {
   "cell_type": "markdown",
   "metadata": {},
   "source": [
    "Les opérations et fonctions mathématiques de Numpy peuvent etre utilisées avec les `series` sans perte de structure :"
   ]
  },
  {
   "cell_type": "code",
   "execution_count": 15,
   "metadata": {},
   "outputs": [
    {
     "data": {
      "text/plain": [
       "nom\n",
       "Carredelest    17.720045\n",
       "Babybel        17.720045\n",
       "Beaufort       20.024984\n",
       "Bleu           18.493242\n",
       "Name: nombre, dtype: float64"
      ]
     },
     "execution_count": 15,
     "metadata": {},
     "output_type": "execute_result"
    }
   ],
   "source": [
    "np.sqrt(fromages)"
   ]
  },
  {
   "cell_type": "markdown",
   "metadata": {},
   "source": [
    "Les `Series` peuvent etre filtrées par valeur :"
   ]
  },
  {
   "cell_type": "code",
   "execution_count": 16,
   "metadata": {},
   "outputs": [
    {
     "data": {
      "text/plain": [
       "nom\n",
       "Beaufort    401\n",
       "Name: nombre, dtype: int64"
      ]
     },
     "execution_count": 16,
     "metadata": {},
     "output_type": "execute_result"
    }
   ],
   "source": [
    "fromages[fromages>400]"
   ]
  },
  {
   "cell_type": "markdown",
   "metadata": {},
   "source": [
    "Une `Series` peut etre créée a partir d'un `dict`:"
   ]
  },
  {
   "cell_type": "code",
   "execution_count": 17,
   "metadata": {},
   "outputs": [
    {
     "data": {
      "text/plain": [
       "Carredelest    314\n",
       "Babybel        314\n",
       "Beaufort       401\n",
       "Bleu           342\n",
       "dtype: int64"
      ]
     },
     "execution_count": 17,
     "metadata": {},
     "output_type": "execute_result"
    }
   ],
   "source": [
    "fromages_dict = {'Carredelest': 314, 'Babybel': 314, 'Beaufort': 401, 'Bleu': 342}\n",
    "pd.Series(fromages_dict)"
   ]
  },
  {
   "cell_type": "markdown",
   "metadata": {},
   "source": [
    "La `Series` est alors ordonnées par clé :\n",
    "Si une erreur apparait dans l'index Pandas utilisera la valeur `NaN` (not a number) pour les valeurs manquantes."
   ]
  },
  {
   "cell_type": "code",
   "execution_count": 18,
   "metadata": {},
   "outputs": [
    {
     "data": {
      "text/plain": [
       "Carredelest    314.0\n",
       "Babybel        314.0\n",
       "Beaufort       401.0\n",
       "Bleu           342.0\n",
       "Comte            NaN\n",
       "dtype: float64"
      ]
     },
     "execution_count": 18,
     "metadata": {},
     "output_type": "execute_result"
    }
   ],
   "source": [
    "fromages2 = pd.Series(fromages_dict, index=['Carredelest', 'Babybel', 'Beaufort', 'Bleu' , 'Comte'])\n",
    "fromages2"
   ]
  },
  {
   "cell_type": "code",
   "execution_count": 19,
   "metadata": {},
   "outputs": [
    {
     "data": {
      "text/plain": [
       "Carredelest    False\n",
       "Babybel        False\n",
       "Beaufort       False\n",
       "Bleu           False\n",
       "Comte           True\n",
       "dtype: bool"
      ]
     },
     "execution_count": 19,
     "metadata": {},
     "output_type": "execute_result"
    }
   ],
   "source": [
    "fromages2.isnull()"
   ]
  },
  {
   "cell_type": "markdown",
   "metadata": {},
   "source": [
    "Plus délicat, les index sont utilisés pour aligner les valeurs lors des opérations entre `Series` :"
   ]
  },
  {
   "cell_type": "code",
   "execution_count": 20,
   "metadata": {},
   "outputs": [
    {
     "data": {
      "text/plain": [
       "Babybel        628.0\n",
       "Beaufort       802.0\n",
       "Bleu           684.0\n",
       "Carredelest    628.0\n",
       "Comte            NaN\n",
       "dtype: float64"
      ]
     },
     "execution_count": 20,
     "metadata": {},
     "output_type": "execute_result"
    }
   ],
   "source": [
    "fromages + fromages2"
   ]
  },
  {
   "cell_type": "markdown",
   "metadata": {},
   "source": [
    "### DataFrame\n",
    "\n",
    "Les données que nous qvons a manipuler sont plus souvent dans des dimensions supérieurs et a chaque *index* correspondront plusieurs colonnes souvent de types différents.\n",
    "\n",
    "Un `DataFrame` est une struture tabulaire contenant plusieurs colonnes de type `Series`."
   ]
  },
  {
   "cell_type": "code",
   "execution_count": null,
   "metadata": {},
   "outputs": [],
   "source": [
    "data = pd.DataFrame({'calories':[314,314,401,342, 264, 367],\n",
    "                     'sodium':[353.5, 238,112, 336, 314, 256],\n",
    "                     'nom':['Carredelest', 'Babybel', 'Beaufort', 'Bleu' , 'Camembert', 'Cantal']})\n",
    "data"
   ]
  },
  {
   "cell_type": "markdown",
   "metadata": {},
   "source": [
    "Les colonnes du `DataFrame` peuvent être réordonnées :"
   ]
  },
  {
   "cell_type": "code",
   "execution_count": null,
   "metadata": {},
   "outputs": [],
   "source": [
    "data[['nom', 'calories', 'sodium']]"
   ]
  },
  {
   "cell_type": "markdown",
   "metadata": {},
   "source": [
    "Un `DataFrame` possede un deuxieme index, représentant les colonnes:"
   ]
  },
  {
   "cell_type": "code",
   "execution_count": null,
   "metadata": {},
   "outputs": [],
   "source": [
    "data.columns"
   ]
  },
  {
   "cell_type": "markdown",
   "metadata": {},
   "source": [
    "On accede alors facilement aux colonnes par l'index ou comme attribut :"
   ]
  },
  {
   "cell_type": "code",
   "execution_count": null,
   "metadata": {},
   "outputs": [],
   "source": [
    "data['calories']"
   ]
  },
  {
   "cell_type": "code",
   "execution_count": null,
   "metadata": {},
   "outputs": [],
   "source": [
    "data.calories"
   ]
  },
  {
   "cell_type": "code",
   "execution_count": null,
   "metadata": {},
   "outputs": [],
   "source": [
    "type(data.calories)"
   ]
  },
  {
   "cell_type": "code",
   "execution_count": null,
   "metadata": {},
   "outputs": [],
   "source": [
    "type(data[['calories']])"
   ]
  },
  {
   "cell_type": "markdown",
   "metadata": {},
   "source": [
    "A la difference des `Series`, l'acces a une ligne particuliere du `DataFrame` utilisera l'attribut `iloc`."
   ]
  },
  {
   "cell_type": "code",
   "execution_count": null,
   "metadata": {},
   "outputs": [],
   "source": [
    "data.iloc[3]"
   ]
  },
  {
   "cell_type": "markdown",
   "metadata": {},
   "source": [
    "Il est important de noter que les `Series` obtenues depuis un `DataFrame` sont des **vues** du DataFrame et non une copie. Il faut donc être prudent lors de leurs manipulation."
   ]
  },
  {
   "cell_type": "code",
   "execution_count": null,
   "metadata": {},
   "outputs": [],
   "source": [
    "valeurs = data.calories\n",
    "valeurs"
   ]
  },
  {
   "cell_type": "code",
   "execution_count": null,
   "metadata": {},
   "outputs": [],
   "source": [
    "calories[5] = 0\n",
    "calories"
   ]
  },
  {
   "cell_type": "code",
   "execution_count": null,
   "metadata": {},
   "outputs": [],
   "source": [
    "data"
   ]
  },
  {
   "cell_type": "code",
   "execution_count": null,
   "metadata": {},
   "outputs": [],
   "source": [
    "vals = data.calories.copy()\n",
    "vals[5] = 1000\n",
    "data"
   ]
  },
  {
   "cell_type": "markdown",
   "metadata": {},
   "source": [
    "Il est possible de créer ou de modifier des colonnes directement :"
   ]
  },
  {
   "cell_type": "code",
   "execution_count": null,
   "metadata": {},
   "outputs": [],
   "source": [
    "data.calories[3] = 145\n",
    "data"
   ]
  },
  {
   "cell_type": "code",
   "execution_count": null,
   "metadata": {},
   "outputs": [],
   "source": [
    "data['calcium'] = 72.6\n",
    "data"
   ]
  },
  {
   "cell_type": "markdown",
   "metadata": {},
   "source": [
    "Si une série est utilisée pour la création d'une colonne, ses valeurs seront placées en fonction fe l'index du DataFrame :"
   ]
  },
  {
   "cell_type": "code",
   "execution_count": null,
   "metadata": {},
   "outputs": [],
   "source": [
    "dispo = pd.Series([0]*4 + [1]*2)\n",
    "dispo"
   ]
  },
  {
   "cell_type": "code",
   "execution_count": null,
   "metadata": {},
   "outputs": [],
   "source": [
    "data['dispo'] = dispo\n",
    "data"
   ]
  },
  {
   "cell_type": "markdown",
   "metadata": {},
   "source": [
    "Les structures ne possédant pas un index doivent absolument avoir la même longueur que le `DataFrame`:"
   ]
  },
  {
   "cell_type": "code",
   "execution_count": null,
   "metadata": {},
   "outputs": [],
   "source": [
    "mois = ['Jan', 'Fev', 'Mar', 'Avr']\n",
    "data['mois'] = mois"
   ]
  },
  {
   "cell_type": "code",
   "execution_count": null,
   "metadata": {},
   "outputs": [],
   "source": [
    "data['mois'] = ['Jan']*len(data)\n",
    "data"
   ]
  },
  {
   "cell_type": "markdown",
   "metadata": {},
   "source": [
    "La méthode `del` peut être utilisée comme dans un `dict` pour supprimer les colonnes :"
   ]
  },
  {
   "cell_type": "code",
   "execution_count": null,
   "metadata": {},
   "outputs": [],
   "source": [
    "del data['mois']\n",
    "data"
   ]
  },
  {
   "cell_type": "markdown",
   "metadata": {},
   "source": [
    "Le dataFrame possède des attributs de même nom que les colonnes et se présentant comme des `ndarray` :"
   ]
  },
  {
   "cell_type": "code",
   "execution_count": null,
   "metadata": {},
   "outputs": [],
   "source": [
    "data.calories"
   ]
  },
  {
   "cell_type": "markdown",
   "metadata": {},
   "source": [
    "## Importer des données"
   ]
  },
  {
   "cell_type": "markdown",
   "metadata": {},
   "source": [
    "Pandas dispose d'un ensemble de fonctions dédiées à l'import des données tabulaires provenant de sources différentes directement sous la forme d'un dataFrame. Ces fonctions  These functions comportent un certain nombre d'options permettant d'indexer, de parser, de faire des itération et de nettoyer automatiquement les données."
   ]
  },
  {
   "cell_type": "markdown",
   "metadata": {},
   "source": [
    "**Chargement d'un format csv**"
   ]
  },
  {
   "cell_type": "markdown",
   "metadata": {},
   "source": [
    "Utilisation de la méthode `read_csv` :\n",
    "Remarque : Les caractères accentués necessitent un encodage particulier utf-8 ou latin 1 etc..."
   ]
  },
  {
   "cell_type": "code",
   "execution_count": null,
   "metadata": {},
   "outputs": [],
   "source": [
    "mb = pd.read_csv(\"data/fromage.csv\")\n",
    "mb.head()"
   ]
  },
  {
   "cell_type": "markdown",
   "metadata": {},
   "source": [
    "La première ligne est, par défaut, considérée comme contenant les noms des colonnes.\n",
    "\n",
    "Il est possible de personnaliser le DataFrame en modifiant les paramètres tels que `header`, `names` or `index_col`."
   ]
  },
  {
   "cell_type": "code",
   "execution_count": null,
   "metadata": {},
   "outputs": [],
   "source": [
    "pd.read_csv(\"data/fromage.csv\", encoding='latin1', header=None).head()"
   ]
  },
  {
   "cell_type": "markdown",
   "metadata": {},
   "source": [
    "`read_csv` est un cas particulier de la méthode `read_table` :"
   ]
  },
  {
   "cell_type": "code",
   "execution_count": null,
   "metadata": {},
   "outputs": [],
   "source": [
    "mb = pd.read_table(\"data/fromage.csv\", sep=';')\n",
    "mb.head()"
   ]
  },
  {
   "cell_type": "markdown",
   "metadata": {},
   "source": [
    "Dans ce cas, il est possible de personaliser la valeur du séparateur `sep`. On peut, par exemple utiliser une expréssion régulière pour définir un nombre d'espacements variables ce qui, malheureusement, trop fréquent.\n",
    "    \n",
    "    sep='\\s+'"
   ]
  },
  {
   "cell_type": "markdown",
   "metadata": {},
   "source": [
    "Pour une indexation plus complexe, de type hiérarchique par exemple, il est possible de spécifier l'argument `index_col`."
   ]
  },
  {
   "cell_type": "code",
   "execution_count": null,
   "metadata": {},
   "outputs": [],
   "source": [
    "mb = pd.read_csv(\"data/fromage.csv\", sep=\";\", index_col=['calories','Fromages'])\n",
    "mb.head()"
   ]
  },
  {
   "cell_type": "markdown",
   "metadata": {},
   "source": [
    "L'argument `skiprows` permet d'exclure certaines lignes du chargement:"
   ]
  },
  {
   "cell_type": "code",
   "execution_count": null,
   "metadata": {},
   "outputs": [],
   "source": [
    "pd.read_csv(\"data/fromage.csv\", sep=';', skiprows=[3,4,6]).head()"
   ]
  },
  {
   "cell_type": "markdown",
   "metadata": {},
   "source": [
    "Ou bien n'importer qu'un nombre limité de lignes avec l'argument `nrows`:"
   ]
  },
  {
   "cell_type": "code",
   "execution_count": null,
   "metadata": {},
   "outputs": [],
   "source": [
    "pd.read_csv(\"data/fromage.csv\", sep=';', nrows=4)"
   ]
  },
  {
   "cell_type": "markdown",
   "metadata": {},
   "source": [
    "**ou de créer un découpage selon un pas**"
   ]
  },
  {
   "cell_type": "code",
   "execution_count": null,
   "metadata": {},
   "outputs": [],
   "source": [
    "data_decoupe = pd.read_csv(\"data/fromage.csv\", sep=';',chunksize=5)\n",
    "i=0\n",
    "for chunk in data_decoupe : \n",
    "    print(chunk.Fromages[i])\n",
    "    i+=5\n"
   ]
  },
  {
   "cell_type": "markdown",
   "metadata": {},
   "source": [
    "La plupart des jeux de données sont incomplets, truffés de trous et d'erreurs de saisie. Pandas marque automatiquement cles cellules vides."
   ]
  },
  {
   "cell_type": "code",
   "execution_count": null,
   "metadata": {},
   "outputs": [],
   "source": [
    "pd.read_csv(\"data/fromage.csv\", sep=\";\").head(20)"
   ]
  },
  {
   "cell_type": "markdown",
   "metadata": {},
   "source": [
    "Pandas a reconnu automatiquement deux champs vides marqués NaN."
   ]
  },
  {
   "cell_type": "code",
   "execution_count": null,
   "metadata": {},
   "outputs": [],
   "source": [
    "pd.isnull(pd.read_csv(\"data/fromage.csv\", sep=\";\")).head(20)"
   ]
  },
  {
   "cell_type": "markdown",
   "metadata": {},
   "source": [
    "Malheureusement les valeurs abérentes telles que \"?\" ou \"-9999\" ne sont pas détéctées et il faut alors spécifier le champ de filtrage avec des règles plus précises avec un argument `na_values` :\n",
    "   "
   ]
  },
  {
   "cell_type": "code",
   "execution_count": null,
   "metadata": {},
   "outputs": [],
   "source": [
    "pd.read_csv(\"data/fromage.csv\",sep=\";\", na_values=['?', -9999]).head(20)"
   ]
  },
  {
   "cell_type": "markdown",
   "metadata": {},
   "source": [
    "### Microsoft Excel\n",
    "\n",
    "Beaucoup de champs professionnels tels que la Finance fonctionnent encore avec des classeurs Excel. Pandas possède une méthode spécifique permettant d'y accéder : `read_excel`. Cependant des dépendances sont parfois nécessaires et doivent être installées en fonction de la version du fichier Excel importé `xlrd` et `openpyxl` (utiliser `pip` ou `easy_install`).\n",
    "                                             "
   ]
  },
  {
   "cell_type": "code",
   "execution_count": null,
   "metadata": {},
   "outputs": [],
   "source": [
    "mb2 = pd.read_excel('data/Canada.xlsx', sheet_name='Canada by Citizenship (2)', header=None)\n",
    "mb2.head()"
   ]
  },
  {
   "cell_type": "markdown",
   "metadata": {},
   "source": [
    "D'autres format sont accessibles via Python et peuvent être concertis en DataFrame ce sont les fichiers de type JSON, XML, HDF5, les bdd relationelles ou non, etc..."
   ]
  },
  {
   "cell_type": "markdown",
   "metadata": {},
   "source": [
    "## Fonctions principales de Pandas"
   ]
  },
  {
   "cell_type": "markdown",
   "metadata": {},
   "source": [
    "Dans cette dernière partie du Notebook nous allons voir les fonctions clés de Pandas.\n",
    "Après le fromage un peu de sport !"
   ]
  },
  {
   "cell_type": "code",
   "execution_count": 22,
   "metadata": {},
   "outputs": [
    {
     "data": {
      "text/plain": [
       "(17588, 52)"
      ]
     },
     "execution_count": 22,
     "metadata": {},
     "output_type": "execute_result"
    }
   ],
   "source": [
    "football = pd.read_csv(\"data/FullData.csv\", index_col=\"Name\")\n",
    "football.shape"
   ]
  },
  {
   "cell_type": "markdown",
   "metadata": {},
   "source": [
    "Le choix d'indexer le dataframe par le nom des joueurs peut sembler évident mais il convient de verifier l'unicité."
   ]
  },
  {
   "cell_type": "code",
   "execution_count": 23,
   "metadata": {},
   "outputs": [
    {
     "data": {
      "text/plain": [
       "False"
      ]
     },
     "execution_count": 23,
     "metadata": {},
     "output_type": "execute_result"
    }
   ],
   "source": [
    "football.index.is_unique"
   ]
  },
  {
   "cell_type": "markdown",
   "metadata": {},
   "source": [
    "En effet certains joueurs ayant changé d'équipe de nombreuses fois y compris lors d'une même année :"
   ]
  },
  {
   "cell_type": "code",
   "execution_count": 24,
   "metadata": {},
   "outputs": [
    {
     "data": {
      "text/plain": [
       "Felipe                6\n",
       "Gabriel               5\n",
       "Danilo                5\n",
       "Carlos Rodríguez      4\n",
       "Roberto               4\n",
       "                     ..\n",
       "James Pearson         1\n",
       "John Hernández        1\n",
       "Terrence Boyd         1\n",
       "Abdulaziz Al Qasir    1\n",
       "Ángel Correa          1\n",
       "Name: Name, Length: 17341, dtype: int64"
      ]
     },
     "execution_count": 24,
     "metadata": {},
     "output_type": "execute_result"
    }
   ],
   "source": [
    "pd.Series(football.index).value_counts()"
   ]
  },
  {
   "cell_type": "code",
   "execution_count": 25,
   "metadata": {},
   "outputs": [
    {
     "data": {
      "text/html": [
       "<div>\n",
       "<style scoped>\n",
       "    .dataframe tbody tr th:only-of-type {\n",
       "        vertical-align: middle;\n",
       "    }\n",
       "\n",
       "    .dataframe tbody tr th {\n",
       "        vertical-align: top;\n",
       "    }\n",
       "\n",
       "    .dataframe thead th {\n",
       "        text-align: right;\n",
       "    }\n",
       "</style>\n",
       "<table border=\"1\" class=\"dataframe\">\n",
       "  <thead>\n",
       "    <tr style=\"text-align: right;\">\n",
       "      <th></th>\n",
       "      <th>Nationality</th>\n",
       "      <th>National_Position</th>\n",
       "      <th>National_Kit</th>\n",
       "      <th>Club</th>\n",
       "      <th>Club_Position</th>\n",
       "      <th>Club_Kit</th>\n",
       "      <th>Club_Joining</th>\n",
       "      <th>Contract_Expiry</th>\n",
       "      <th>Rating</th>\n",
       "      <th>Height</th>\n",
       "      <th>...</th>\n",
       "      <th>Long_Shots</th>\n",
       "      <th>Curve</th>\n",
       "      <th>Freekick_Accuracy</th>\n",
       "      <th>Penalties</th>\n",
       "      <th>Volleys</th>\n",
       "      <th>GK_Positioning</th>\n",
       "      <th>GK_Diving</th>\n",
       "      <th>GK_Kicking</th>\n",
       "      <th>GK_Handling</th>\n",
       "      <th>GK_Reflexes</th>\n",
       "    </tr>\n",
       "    <tr>\n",
       "      <th>Name</th>\n",
       "      <th></th>\n",
       "      <th></th>\n",
       "      <th></th>\n",
       "      <th></th>\n",
       "      <th></th>\n",
       "      <th></th>\n",
       "      <th></th>\n",
       "      <th></th>\n",
       "      <th></th>\n",
       "      <th></th>\n",
       "      <th></th>\n",
       "      <th></th>\n",
       "      <th></th>\n",
       "      <th></th>\n",
       "      <th></th>\n",
       "      <th></th>\n",
       "      <th></th>\n",
       "      <th></th>\n",
       "      <th></th>\n",
       "      <th></th>\n",
       "      <th></th>\n",
       "    </tr>\n",
       "  </thead>\n",
       "  <tbody>\n",
       "    <tr>\n",
       "      <th>Felipe</th>\n",
       "      <td>Brazil</td>\n",
       "      <td>NaN</td>\n",
       "      <td>NaN</td>\n",
       "      <td>FC Porto</td>\n",
       "      <td>RCB</td>\n",
       "      <td>28.0</td>\n",
       "      <td>07/01/2016</td>\n",
       "      <td>2021.0</td>\n",
       "      <td>80</td>\n",
       "      <td>185 cm</td>\n",
       "      <td>...</td>\n",
       "      <td>41</td>\n",
       "      <td>32</td>\n",
       "      <td>30</td>\n",
       "      <td>47</td>\n",
       "      <td>40</td>\n",
       "      <td>9</td>\n",
       "      <td>9</td>\n",
       "      <td>14</td>\n",
       "      <td>11</td>\n",
       "      <td>7</td>\n",
       "    </tr>\n",
       "    <tr>\n",
       "      <th>Felipe</th>\n",
       "      <td>Brazil</td>\n",
       "      <td>NaN</td>\n",
       "      <td>NaN</td>\n",
       "      <td>Udinese</td>\n",
       "      <td>LCB</td>\n",
       "      <td>30.0</td>\n",
       "      <td>08/31/2015</td>\n",
       "      <td>2017.0</td>\n",
       "      <td>75</td>\n",
       "      <td>188 cm</td>\n",
       "      <td>...</td>\n",
       "      <td>40</td>\n",
       "      <td>49</td>\n",
       "      <td>21</td>\n",
       "      <td>35</td>\n",
       "      <td>19</td>\n",
       "      <td>9</td>\n",
       "      <td>11</td>\n",
       "      <td>8</td>\n",
       "      <td>6</td>\n",
       "      <td>5</td>\n",
       "    </tr>\n",
       "    <tr>\n",
       "      <th>Felipe</th>\n",
       "      <td>Brazil</td>\n",
       "      <td>NaN</td>\n",
       "      <td>NaN</td>\n",
       "      <td>Chaves</td>\n",
       "      <td>Sub</td>\n",
       "      <td>33.0</td>\n",
       "      <td>07/04/2016</td>\n",
       "      <td>2017.0</td>\n",
       "      <td>73</td>\n",
       "      <td>189 cm</td>\n",
       "      <td>...</td>\n",
       "      <td>44</td>\n",
       "      <td>44</td>\n",
       "      <td>39</td>\n",
       "      <td>45</td>\n",
       "      <td>48</td>\n",
       "      <td>11</td>\n",
       "      <td>11</td>\n",
       "      <td>11</td>\n",
       "      <td>8</td>\n",
       "      <td>14</td>\n",
       "    </tr>\n",
       "    <tr>\n",
       "      <th>Felipe</th>\n",
       "      <td>Brazil</td>\n",
       "      <td>NaN</td>\n",
       "      <td>NaN</td>\n",
       "      <td>NY Red Bulls</td>\n",
       "      <td>RDM</td>\n",
       "      <td>8.0</td>\n",
       "      <td>01/27/2015</td>\n",
       "      <td>2022.0</td>\n",
       "      <td>71</td>\n",
       "      <td>171 cm</td>\n",
       "      <td>...</td>\n",
       "      <td>70</td>\n",
       "      <td>75</td>\n",
       "      <td>68</td>\n",
       "      <td>65</td>\n",
       "      <td>64</td>\n",
       "      <td>14</td>\n",
       "      <td>8</td>\n",
       "      <td>9</td>\n",
       "      <td>9</td>\n",
       "      <td>12</td>\n",
       "    </tr>\n",
       "    <tr>\n",
       "      <th>Felipe</th>\n",
       "      <td>Brazil</td>\n",
       "      <td>NaN</td>\n",
       "      <td>NaN</td>\n",
       "      <td>Sanfrecce Hiroshima</td>\n",
       "      <td>RF</td>\n",
       "      <td>10.0</td>\n",
       "      <td>01/25/2017</td>\n",
       "      <td>2017.0</td>\n",
       "      <td>71</td>\n",
       "      <td>171 cm</td>\n",
       "      <td>...</td>\n",
       "      <td>66</td>\n",
       "      <td>63</td>\n",
       "      <td>45</td>\n",
       "      <td>54</td>\n",
       "      <td>67</td>\n",
       "      <td>8</td>\n",
       "      <td>16</td>\n",
       "      <td>13</td>\n",
       "      <td>9</td>\n",
       "      <td>13</td>\n",
       "    </tr>\n",
       "    <tr>\n",
       "      <th>Felipe</th>\n",
       "      <td>Brazil</td>\n",
       "      <td>NaN</td>\n",
       "      <td>NaN</td>\n",
       "      <td>Hannover 96</td>\n",
       "      <td>Sub</td>\n",
       "      <td>20.0</td>\n",
       "      <td>07/01/2012</td>\n",
       "      <td>2018.0</td>\n",
       "      <td>70</td>\n",
       "      <td>193 cm</td>\n",
       "      <td>...</td>\n",
       "      <td>58</td>\n",
       "      <td>33</td>\n",
       "      <td>31</td>\n",
       "      <td>52</td>\n",
       "      <td>26</td>\n",
       "      <td>12</td>\n",
       "      <td>13</td>\n",
       "      <td>14</td>\n",
       "      <td>16</td>\n",
       "      <td>15</td>\n",
       "    </tr>\n",
       "  </tbody>\n",
       "</table>\n",
       "<p>6 rows × 52 columns</p>\n",
       "</div>"
      ],
      "text/plain": [
       "       Nationality National_Position  National_Kit                 Club  \\\n",
       "Name                                                                      \n",
       "Felipe      Brazil               NaN           NaN             FC Porto   \n",
       "Felipe      Brazil               NaN           NaN              Udinese   \n",
       "Felipe      Brazil               NaN           NaN               Chaves   \n",
       "Felipe      Brazil               NaN           NaN         NY Red Bulls   \n",
       "Felipe      Brazil               NaN           NaN  Sanfrecce Hiroshima   \n",
       "Felipe      Brazil               NaN           NaN          Hannover 96   \n",
       "\n",
       "       Club_Position  Club_Kit Club_Joining  Contract_Expiry  Rating  Height  \\\n",
       "Name                                                                           \n",
       "Felipe           RCB      28.0   07/01/2016           2021.0      80  185 cm   \n",
       "Felipe           LCB      30.0   08/31/2015           2017.0      75  188 cm   \n",
       "Felipe           Sub      33.0   07/04/2016           2017.0      73  189 cm   \n",
       "Felipe           RDM       8.0   01/27/2015           2022.0      71  171 cm   \n",
       "Felipe            RF      10.0   01/25/2017           2017.0      71  171 cm   \n",
       "Felipe           Sub      20.0   07/01/2012           2018.0      70  193 cm   \n",
       "\n",
       "        ... Long_Shots Curve Freekick_Accuracy  Penalties Volleys  \\\n",
       "Name    ...                                                         \n",
       "Felipe  ...         41    32                30         47      40   \n",
       "Felipe  ...         40    49                21         35      19   \n",
       "Felipe  ...         44    44                39         45      48   \n",
       "Felipe  ...         70    75                68         65      64   \n",
       "Felipe  ...         66    63                45         54      67   \n",
       "Felipe  ...         58    33                31         52      26   \n",
       "\n",
       "       GK_Positioning  GK_Diving  GK_Kicking  GK_Handling  GK_Reflexes  \n",
       "Name                                                                    \n",
       "Felipe              9          9          14           11            7  \n",
       "Felipe              9         11           8            6            5  \n",
       "Felipe             11         11          11            8           14  \n",
       "Felipe             14          8           9            9           12  \n",
       "Felipe              8         16          13            9           13  \n",
       "Felipe             12         13          14           16           15  \n",
       "\n",
       "[6 rows x 52 columns]"
      ]
     },
     "execution_count": 25,
     "metadata": {},
     "output_type": "execute_result"
    }
   ],
   "source": [
    "football.loc['Felipe']"
   ]
  },
  {
   "cell_type": "markdown",
   "metadata": {},
   "source": [
    "Peut être faut-il alors combiner des colonnes pour créer un index unique exemple `Name` avec `Club`:"
   ]
  },
  {
   "cell_type": "code",
   "execution_count": 26,
   "metadata": {},
   "outputs": [
    {
     "data": {
      "text/html": [
       "<div>\n",
       "<style scoped>\n",
       "    .dataframe tbody tr th:only-of-type {\n",
       "        vertical-align: middle;\n",
       "    }\n",
       "\n",
       "    .dataframe tbody tr th {\n",
       "        vertical-align: top;\n",
       "    }\n",
       "\n",
       "    .dataframe thead th {\n",
       "        text-align: right;\n",
       "    }\n",
       "</style>\n",
       "<table border=\"1\" class=\"dataframe\">\n",
       "  <thead>\n",
       "    <tr style=\"text-align: right;\">\n",
       "      <th></th>\n",
       "      <th>Nationality</th>\n",
       "      <th>National_Position</th>\n",
       "      <th>National_Kit</th>\n",
       "      <th>Club</th>\n",
       "      <th>Club_Position</th>\n",
       "      <th>Club_Kit</th>\n",
       "      <th>Club_Joining</th>\n",
       "      <th>Contract_Expiry</th>\n",
       "      <th>Rating</th>\n",
       "      <th>Height</th>\n",
       "      <th>...</th>\n",
       "      <th>Long_Shots</th>\n",
       "      <th>Curve</th>\n",
       "      <th>Freekick_Accuracy</th>\n",
       "      <th>Penalties</th>\n",
       "      <th>Volleys</th>\n",
       "      <th>GK_Positioning</th>\n",
       "      <th>GK_Diving</th>\n",
       "      <th>GK_Kicking</th>\n",
       "      <th>GK_Handling</th>\n",
       "      <th>GK_Reflexes</th>\n",
       "    </tr>\n",
       "  </thead>\n",
       "  <tbody>\n",
       "    <tr>\n",
       "      <th>Cristiano RonaldoReal Madrid</th>\n",
       "      <td>Portugal</td>\n",
       "      <td>LS</td>\n",
       "      <td>7.0</td>\n",
       "      <td>Real Madrid</td>\n",
       "      <td>LW</td>\n",
       "      <td>7.0</td>\n",
       "      <td>07/01/2009</td>\n",
       "      <td>2021.0</td>\n",
       "      <td>94</td>\n",
       "      <td>185 cm</td>\n",
       "      <td>...</td>\n",
       "      <td>90</td>\n",
       "      <td>81</td>\n",
       "      <td>76</td>\n",
       "      <td>85</td>\n",
       "      <td>88</td>\n",
       "      <td>14</td>\n",
       "      <td>7</td>\n",
       "      <td>15</td>\n",
       "      <td>11</td>\n",
       "      <td>11</td>\n",
       "    </tr>\n",
       "    <tr>\n",
       "      <th>Lionel MessiFC Barcelona</th>\n",
       "      <td>Argentina</td>\n",
       "      <td>RW</td>\n",
       "      <td>10.0</td>\n",
       "      <td>FC Barcelona</td>\n",
       "      <td>RW</td>\n",
       "      <td>10.0</td>\n",
       "      <td>07/01/2004</td>\n",
       "      <td>2018.0</td>\n",
       "      <td>93</td>\n",
       "      <td>170 cm</td>\n",
       "      <td>...</td>\n",
       "      <td>88</td>\n",
       "      <td>89</td>\n",
       "      <td>90</td>\n",
       "      <td>74</td>\n",
       "      <td>85</td>\n",
       "      <td>14</td>\n",
       "      <td>6</td>\n",
       "      <td>15</td>\n",
       "      <td>11</td>\n",
       "      <td>8</td>\n",
       "    </tr>\n",
       "    <tr>\n",
       "      <th>NeymarFC Barcelona</th>\n",
       "      <td>Brazil</td>\n",
       "      <td>LW</td>\n",
       "      <td>10.0</td>\n",
       "      <td>FC Barcelona</td>\n",
       "      <td>LW</td>\n",
       "      <td>11.0</td>\n",
       "      <td>07/01/2013</td>\n",
       "      <td>2021.0</td>\n",
       "      <td>92</td>\n",
       "      <td>174 cm</td>\n",
       "      <td>...</td>\n",
       "      <td>77</td>\n",
       "      <td>79</td>\n",
       "      <td>84</td>\n",
       "      <td>81</td>\n",
       "      <td>83</td>\n",
       "      <td>15</td>\n",
       "      <td>9</td>\n",
       "      <td>15</td>\n",
       "      <td>9</td>\n",
       "      <td>11</td>\n",
       "    </tr>\n",
       "    <tr>\n",
       "      <th>Luis SuárezFC Barcelona</th>\n",
       "      <td>Uruguay</td>\n",
       "      <td>LS</td>\n",
       "      <td>9.0</td>\n",
       "      <td>FC Barcelona</td>\n",
       "      <td>ST</td>\n",
       "      <td>9.0</td>\n",
       "      <td>07/11/2014</td>\n",
       "      <td>2021.0</td>\n",
       "      <td>92</td>\n",
       "      <td>182 cm</td>\n",
       "      <td>...</td>\n",
       "      <td>86</td>\n",
       "      <td>86</td>\n",
       "      <td>84</td>\n",
       "      <td>85</td>\n",
       "      <td>88</td>\n",
       "      <td>33</td>\n",
       "      <td>27</td>\n",
       "      <td>31</td>\n",
       "      <td>25</td>\n",
       "      <td>37</td>\n",
       "    </tr>\n",
       "    <tr>\n",
       "      <th>Manuel NeuerFC Bayern</th>\n",
       "      <td>Germany</td>\n",
       "      <td>GK</td>\n",
       "      <td>1.0</td>\n",
       "      <td>FC Bayern</td>\n",
       "      <td>GK</td>\n",
       "      <td>1.0</td>\n",
       "      <td>07/01/2011</td>\n",
       "      <td>2021.0</td>\n",
       "      <td>92</td>\n",
       "      <td>193 cm</td>\n",
       "      <td>...</td>\n",
       "      <td>16</td>\n",
       "      <td>14</td>\n",
       "      <td>11</td>\n",
       "      <td>47</td>\n",
       "      <td>11</td>\n",
       "      <td>91</td>\n",
       "      <td>89</td>\n",
       "      <td>95</td>\n",
       "      <td>90</td>\n",
       "      <td>89</td>\n",
       "    </tr>\n",
       "  </tbody>\n",
       "</table>\n",
       "<p>5 rows × 52 columns</p>\n",
       "</div>"
      ],
      "text/plain": [
       "                             Nationality National_Position  National_Kit  \\\n",
       "Cristiano RonaldoReal Madrid    Portugal                LS           7.0   \n",
       "Lionel MessiFC Barcelona       Argentina                RW          10.0   \n",
       "NeymarFC Barcelona                Brazil                LW          10.0   \n",
       "Luis SuárezFC Barcelona          Uruguay                LS           9.0   \n",
       "Manuel NeuerFC Bayern            Germany                GK           1.0   \n",
       "\n",
       "                                      Club Club_Position  Club_Kit  \\\n",
       "Cristiano RonaldoReal Madrid   Real Madrid            LW       7.0   \n",
       "Lionel MessiFC Barcelona      FC Barcelona            RW      10.0   \n",
       "NeymarFC Barcelona            FC Barcelona            LW      11.0   \n",
       "Luis SuárezFC Barcelona       FC Barcelona            ST       9.0   \n",
       "Manuel NeuerFC Bayern            FC Bayern            GK       1.0   \n",
       "\n",
       "                             Club_Joining  Contract_Expiry  Rating  Height  \\\n",
       "Cristiano RonaldoReal Madrid   07/01/2009           2021.0      94  185 cm   \n",
       "Lionel MessiFC Barcelona       07/01/2004           2018.0      93  170 cm   \n",
       "NeymarFC Barcelona             07/01/2013           2021.0      92  174 cm   \n",
       "Luis SuárezFC Barcelona        07/11/2014           2021.0      92  182 cm   \n",
       "Manuel NeuerFC Bayern          07/01/2011           2021.0      92  193 cm   \n",
       "\n",
       "                              ... Long_Shots Curve Freekick_Accuracy  \\\n",
       "Cristiano RonaldoReal Madrid  ...         90    81                76   \n",
       "Lionel MessiFC Barcelona      ...         88    89                90   \n",
       "NeymarFC Barcelona            ...         77    79                84   \n",
       "Luis SuárezFC Barcelona       ...         86    86                84   \n",
       "Manuel NeuerFC Bayern         ...         16    14                11   \n",
       "\n",
       "                              Penalties Volleys GK_Positioning  GK_Diving  \\\n",
       "Cristiano RonaldoReal Madrid         85      88             14          7   \n",
       "Lionel MessiFC Barcelona             74      85             14          6   \n",
       "NeymarFC Barcelona                   81      83             15          9   \n",
       "Luis SuárezFC Barcelona              85      88             33         27   \n",
       "Manuel NeuerFC Bayern                47      11             91         89   \n",
       "\n",
       "                              GK_Kicking  GK_Handling  GK_Reflexes  \n",
       "Cristiano RonaldoReal Madrid          15           11           11  \n",
       "Lionel MessiFC Barcelona              15           11            8  \n",
       "NeymarFC Barcelona                    15            9           11  \n",
       "Luis SuárezFC Barcelona               31           25           37  \n",
       "Manuel NeuerFC Bayern                 95           90           89  \n",
       "\n",
       "[5 rows x 52 columns]"
      ]
     },
     "execution_count": 26,
     "metadata": {},
     "output_type": "execute_result"
    }
   ],
   "source": [
    "id = football.index + football.Club\n",
    "football_2 = football.copy()\n",
    "football_2.index = id\n",
    "football_2.head()"
   ]
  },
  {
   "cell_type": "markdown",
   "metadata": {},
   "source": [
    "On vérifie :"
   ]
  },
  {
   "cell_type": "code",
   "execution_count": 27,
   "metadata": {},
   "outputs": [
    {
     "data": {
      "text/plain": [
       "Park Dae HanJeonnam Dragons     2\n",
       "Jake WrightSheffield Utd        2\n",
       "Pierrick CrosRed Star FC        2\n",
       "Lee Jae SungJeonbuk Hyundai     2\n",
       "BritoMarítimo                   1\n",
       "                               ..\n",
       "Rodrigo VargasFree Agents       1\n",
       "Roberto SalcedoNecaxa           1\n",
       "Borja BastónSwansea City        1\n",
       "Juan CarabalíCortuluá           1\n",
       "Jens Kristian SkogmoIK Start    1\n",
       "Length: 17584, dtype: int64"
      ]
     },
     "execution_count": 27,
     "metadata": {},
     "output_type": "execute_result"
    }
   ],
   "source": [
    "pd.Series(football_2.index).value_counts()"
   ]
  },
  {
   "cell_type": "markdown",
   "metadata": {},
   "source": [
    "Toujours pas !"
   ]
  },
  {
   "cell_type": "code",
   "execution_count": null,
   "metadata": {},
   "outputs": [],
   "source": [
    "football_2.loc['Park Dae HanJeonnam Dragons']"
   ]
  },
  {
   "cell_type": "markdown",
   "metadata": {},
   "source": [
    "Peut être faut-il ajouter la colone \"Contract_Expiry\".<br>On reprend pour Name comme index."
   ]
  },
  {
   "cell_type": "code",
   "execution_count": null,
   "metadata": {},
   "outputs": [],
   "source": [
    "football = pd.read_csv(\"data/fulldata.csv\")\n",
    "football.head()"
   ]
  },
  {
   "cell_type": "markdown",
   "metadata": {},
   "source": [
    "## Méthodes de tri\n",
    "\n",
    "Pandas permet de réorganiser les données avec des méthodes de tri simples."
   ]
  },
  {
   "cell_type": "code",
   "execution_count": null,
   "metadata": {},
   "outputs": [],
   "source": [
    "football.sort_values(ascending=True,by='Name').head()"
   ]
  },
  {
   "cell_type": "code",
   "execution_count": null,
   "metadata": {},
   "outputs": [],
   "source": [
    "football[['Name','Club','Contract_Expiry']].sort_values(ascending=[True,False], by=['Name', 'Contract_Expiry']).head(20)"
   ]
  },
  {
   "cell_type": "markdown",
   "metadata": {},
   "source": [
    "## Données manquantes\n",
    "\n",
    "Les données manquantes sont détectées par Pandas et traitées comme une valeur de type NaN. Ceci est valable pour les cellules vises mais aussi celle égale à None."
   ]
  },
  {
   "cell_type": "code",
   "execution_count": null,
   "metadata": {},
   "outputs": [],
   "source": [
    "foo = pd.Series([np.nan, -3, None, 'foobar'])\n",
    "foo"
   ]
  },
  {
   "cell_type": "code",
   "execution_count": null,
   "metadata": {},
   "outputs": [],
   "source": [
    "foo.isnull()"
   ]
  },
  {
   "cell_type": "markdown",
   "metadata": {},
   "source": [
    "Les valeurs manquantes peuvent être suprimées."
   ]
  },
  {
   "cell_type": "code",
   "execution_count": 29,
   "metadata": {},
   "outputs": [
    {
     "data": {
      "text/html": [
       "<div>\n",
       "<style scoped>\n",
       "    .dataframe tbody tr th:only-of-type {\n",
       "        vertical-align: middle;\n",
       "    }\n",
       "\n",
       "    .dataframe tbody tr th {\n",
       "        vertical-align: top;\n",
       "    }\n",
       "\n",
       "    .dataframe thead th {\n",
       "        text-align: right;\n",
       "    }\n",
       "</style>\n",
       "<table border=\"1\" class=\"dataframe\">\n",
       "  <thead>\n",
       "    <tr style=\"text-align: right;\">\n",
       "      <th></th>\n",
       "      <th>Fromages</th>\n",
       "      <th>calories</th>\n",
       "      <th>sodium</th>\n",
       "      <th>calcium</th>\n",
       "      <th>lipides</th>\n",
       "      <th>retinol</th>\n",
       "      <th>folates</th>\n",
       "      <th>proteines</th>\n",
       "      <th>cholesterol</th>\n",
       "      <th>magnesium</th>\n",
       "    </tr>\n",
       "  </thead>\n",
       "  <tbody>\n",
       "    <tr>\n",
       "      <th>0</th>\n",
       "      <td>CarredelEst</td>\n",
       "      <td>314</td>\n",
       "      <td>353.5</td>\n",
       "      <td>72.6</td>\n",
       "      <td>26.3</td>\n",
       "      <td>51.6</td>\n",
       "      <td>30.3</td>\n",
       "      <td>21.0</td>\n",
       "      <td>70</td>\n",
       "      <td>20.0</td>\n",
       "    </tr>\n",
       "    <tr>\n",
       "      <th>1</th>\n",
       "      <td>Babybel</td>\n",
       "      <td>314</td>\n",
       "      <td>238.0</td>\n",
       "      <td>209.8</td>\n",
       "      <td>25.1</td>\n",
       "      <td>63.7</td>\n",
       "      <td>6.4</td>\n",
       "      <td>22.6</td>\n",
       "      <td>70</td>\n",
       "      <td>27.0</td>\n",
       "    </tr>\n",
       "    <tr>\n",
       "      <th>2</th>\n",
       "      <td>Beaufort</td>\n",
       "      <td>401</td>\n",
       "      <td>112.0</td>\n",
       "      <td>259.4</td>\n",
       "      <td>33.3</td>\n",
       "      <td>54.9</td>\n",
       "      <td>1.2</td>\n",
       "      <td>26.6</td>\n",
       "      <td>120</td>\n",
       "      <td>41.0</td>\n",
       "    </tr>\n",
       "    <tr>\n",
       "      <th>3</th>\n",
       "      <td>Bleu</td>\n",
       "      <td>342</td>\n",
       "      <td>336.0</td>\n",
       "      <td>211.1</td>\n",
       "      <td>28.9</td>\n",
       "      <td>37.1</td>\n",
       "      <td>27.5</td>\n",
       "      <td>20.2</td>\n",
       "      <td>90</td>\n",
       "      <td>27.0</td>\n",
       "    </tr>\n",
       "    <tr>\n",
       "      <th>4</th>\n",
       "      <td>Camembert</td>\n",
       "      <td>264</td>\n",
       "      <td>314.0</td>\n",
       "      <td>215.9</td>\n",
       "      <td>19.5</td>\n",
       "      <td>103</td>\n",
       "      <td>36.4</td>\n",
       "      <td>23.4</td>\n",
       "      <td>60</td>\n",
       "      <td>20.0</td>\n",
       "    </tr>\n",
       "    <tr>\n",
       "      <th>5</th>\n",
       "      <td>Cantal</td>\n",
       "      <td>367</td>\n",
       "      <td>256.0</td>\n",
       "      <td>264.0</td>\n",
       "      <td>28.8</td>\n",
       "      <td>48.8</td>\n",
       "      <td>5.7</td>\n",
       "      <td>23.0</td>\n",
       "      <td>90</td>\n",
       "      <td>30.0</td>\n",
       "    </tr>\n",
       "    <tr>\n",
       "      <th>6</th>\n",
       "      <td>Chabichou</td>\n",
       "      <td>344</td>\n",
       "      <td>192.0</td>\n",
       "      <td>87.2</td>\n",
       "      <td>27.9</td>\n",
       "      <td>90.1</td>\n",
       "      <td>36.3</td>\n",
       "      <td>19.5</td>\n",
       "      <td>80</td>\n",
       "      <td>36.0</td>\n",
       "    </tr>\n",
       "    <tr>\n",
       "      <th>7</th>\n",
       "      <td>Chaource</td>\n",
       "      <td>292</td>\n",
       "      <td>276.0</td>\n",
       "      <td>132.9</td>\n",
       "      <td>25.4</td>\n",
       "      <td>116.4</td>\n",
       "      <td>32.5</td>\n",
       "      <td>17.8</td>\n",
       "      <td>70</td>\n",
       "      <td>25.0</td>\n",
       "    </tr>\n",
       "    <tr>\n",
       "      <th>8</th>\n",
       "      <td>Cheddar</td>\n",
       "      <td>406</td>\n",
       "      <td>172.0</td>\n",
       "      <td>182.3</td>\n",
       "      <td>32.5</td>\n",
       "      <td>76.4</td>\n",
       "      <td>4.9</td>\n",
       "      <td>26.0</td>\n",
       "      <td>110</td>\n",
       "      <td>28.0</td>\n",
       "    </tr>\n",
       "    <tr>\n",
       "      <th>9</th>\n",
       "      <td>Comte</td>\n",
       "      <td>399</td>\n",
       "      <td>92.0</td>\n",
       "      <td>220.5</td>\n",
       "      <td>32.4</td>\n",
       "      <td>55.9</td>\n",
       "      <td>NaN</td>\n",
       "      <td>29.2</td>\n",
       "      <td>120</td>\n",
       "      <td>51.0</td>\n",
       "    </tr>\n",
       "    <tr>\n",
       "      <th>10</th>\n",
       "      <td>Coulomniers</td>\n",
       "      <td>308</td>\n",
       "      <td>222.0</td>\n",
       "      <td>79.2</td>\n",
       "      <td>25.6</td>\n",
       "      <td>63.6</td>\n",
       "      <td>21.1</td>\n",
       "      <td>20.5</td>\n",
       "      <td>80</td>\n",
       "      <td>13.0</td>\n",
       "    </tr>\n",
       "    <tr>\n",
       "      <th>11</th>\n",
       "      <td>Edam</td>\n",
       "      <td>327</td>\n",
       "      <td>148.0</td>\n",
       "      <td>272.2</td>\n",
       "      <td>24.7</td>\n",
       "      <td>65.7</td>\n",
       "      <td>5.5</td>\n",
       "      <td>24.7</td>\n",
       "      <td>80</td>\n",
       "      <td>NaN</td>\n",
       "    </tr>\n",
       "    <tr>\n",
       "      <th>12</th>\n",
       "      <td>Emmental</td>\n",
       "      <td>378</td>\n",
       "      <td>60.0</td>\n",
       "      <td>308.2</td>\n",
       "      <td>29.4</td>\n",
       "      <td>56.3</td>\n",
       "      <td>2.4</td>\n",
       "      <td>29.4</td>\n",
       "      <td>110</td>\n",
       "      <td>45.0</td>\n",
       "    </tr>\n",
       "    <tr>\n",
       "      <th>13</th>\n",
       "      <td>Fr.chevrepatemolle</td>\n",
       "      <td>206</td>\n",
       "      <td>160.0</td>\n",
       "      <td>72.8</td>\n",
       "      <td>18.5</td>\n",
       "      <td>150.5</td>\n",
       "      <td>31.0</td>\n",
       "      <td>11.1</td>\n",
       "      <td>50</td>\n",
       "      <td>16.0</td>\n",
       "    </tr>\n",
       "    <tr>\n",
       "      <th>14</th>\n",
       "      <td>Fr.fondu.45</td>\n",
       "      <td>292</td>\n",
       "      <td>390.0</td>\n",
       "      <td>168.5</td>\n",
       "      <td>24.0</td>\n",
       "      <td>77.4</td>\n",
       "      <td>5.5</td>\n",
       "      <td>16.8</td>\n",
       "      <td>70</td>\n",
       "      <td>20.0</td>\n",
       "    </tr>\n",
       "    <tr>\n",
       "      <th>15</th>\n",
       "      <td>Fr.frais20nat.</td>\n",
       "      <td>80</td>\n",
       "      <td>41.0</td>\n",
       "      <td>146.3</td>\n",
       "      <td>3.5</td>\n",
       "      <td>?</td>\n",
       "      <td>20.0</td>\n",
       "      <td>8.3</td>\n",
       "      <td>10</td>\n",
       "      <td>11.0</td>\n",
       "    </tr>\n",
       "    <tr>\n",
       "      <th>16</th>\n",
       "      <td>Fr.frais40nat.</td>\n",
       "      <td>115</td>\n",
       "      <td>25.0</td>\n",
       "      <td>94.8</td>\n",
       "      <td>7.8</td>\n",
       "      <td>64.3</td>\n",
       "      <td>22.6</td>\n",
       "      <td>7.0</td>\n",
       "      <td>30</td>\n",
       "      <td>10.0</td>\n",
       "    </tr>\n",
       "    <tr>\n",
       "      <th>17</th>\n",
       "      <td>Maroilles</td>\n",
       "      <td>338</td>\n",
       "      <td>311.0</td>\n",
       "      <td>236.7</td>\n",
       "      <td>29.1</td>\n",
       "      <td>46.7</td>\n",
       "      <td>3.6</td>\n",
       "      <td>20.4</td>\n",
       "      <td>90</td>\n",
       "      <td>40.0</td>\n",
       "    </tr>\n",
       "    <tr>\n",
       "      <th>18</th>\n",
       "      <td>Morbier</td>\n",
       "      <td>347</td>\n",
       "      <td>285.0</td>\n",
       "      <td>219.0</td>\n",
       "      <td>29.5</td>\n",
       "      <td>57.6</td>\n",
       "      <td>5.8</td>\n",
       "      <td>23.6</td>\n",
       "      <td>80</td>\n",
       "      <td>-9999.0</td>\n",
       "    </tr>\n",
       "    <tr>\n",
       "      <th>19</th>\n",
       "      <td>Parmesan</td>\n",
       "      <td>381</td>\n",
       "      <td>240.0</td>\n",
       "      <td>334.6</td>\n",
       "      <td>27.5</td>\n",
       "      <td>90</td>\n",
       "      <td>5.2</td>\n",
       "      <td>35.7</td>\n",
       "      <td>80</td>\n",
       "      <td>46.0</td>\n",
       "    </tr>\n",
       "  </tbody>\n",
       "</table>\n",
       "</div>"
      ],
      "text/plain": [
       "              Fromages  calories  sodium  calcium  lipides retinol  folates  \\\n",
       "0          CarredelEst       314   353.5     72.6     26.3    51.6     30.3   \n",
       "1              Babybel       314   238.0    209.8     25.1    63.7      6.4   \n",
       "2             Beaufort       401   112.0    259.4     33.3    54.9      1.2   \n",
       "3                 Bleu       342   336.0    211.1     28.9    37.1     27.5   \n",
       "4            Camembert       264   314.0    215.9     19.5     103     36.4   \n",
       "5               Cantal       367   256.0    264.0     28.8    48.8      5.7   \n",
       "6            Chabichou       344   192.0     87.2     27.9    90.1     36.3   \n",
       "7             Chaource       292   276.0    132.9     25.4   116.4     32.5   \n",
       "8              Cheddar       406   172.0    182.3     32.5    76.4      4.9   \n",
       "9                Comte       399    92.0    220.5     32.4    55.9      NaN   \n",
       "10         Coulomniers       308   222.0     79.2     25.6    63.6     21.1   \n",
       "11                Edam       327   148.0    272.2     24.7    65.7      5.5   \n",
       "12            Emmental       378    60.0    308.2     29.4    56.3      2.4   \n",
       "13  Fr.chevrepatemolle       206   160.0     72.8     18.5   150.5     31.0   \n",
       "14         Fr.fondu.45       292   390.0    168.5     24.0    77.4      5.5   \n",
       "15      Fr.frais20nat.        80    41.0    146.3      3.5       ?     20.0   \n",
       "16      Fr.frais40nat.       115    25.0     94.8      7.8    64.3     22.6   \n",
       "17           Maroilles       338   311.0    236.7     29.1    46.7      3.6   \n",
       "18             Morbier       347   285.0    219.0     29.5    57.6      5.8   \n",
       "19            Parmesan       381   240.0    334.6     27.5      90      5.2   \n",
       "\n",
       "    proteines  cholesterol  magnesium  \n",
       "0        21.0           70       20.0  \n",
       "1        22.6           70       27.0  \n",
       "2        26.6          120       41.0  \n",
       "3        20.2           90       27.0  \n",
       "4        23.4           60       20.0  \n",
       "5        23.0           90       30.0  \n",
       "6        19.5           80       36.0  \n",
       "7        17.8           70       25.0  \n",
       "8        26.0          110       28.0  \n",
       "9        29.2          120       51.0  \n",
       "10       20.5           80       13.0  \n",
       "11       24.7           80        NaN  \n",
       "12       29.4          110       45.0  \n",
       "13       11.1           50       16.0  \n",
       "14       16.8           70       20.0  \n",
       "15        8.3           10       11.0  \n",
       "16        7.0           30       10.0  \n",
       "17       20.4           90       40.0  \n",
       "18       23.6           80    -9999.0  \n",
       "19       35.7           80       46.0  "
      ]
     },
     "execution_count": 29,
     "metadata": {},
     "output_type": "execute_result"
    }
   ],
   "source": [
    "data = pd.read_csv(\"data/fromage.csv\", sep=\";\")\n",
    "data.head(20)"
   ]
  },
  {
   "cell_type": "code",
   "execution_count": 30,
   "metadata": {},
   "outputs": [
    {
     "data": {
      "text/html": [
       "<div>\n",
       "<style scoped>\n",
       "    .dataframe tbody tr th:only-of-type {\n",
       "        vertical-align: middle;\n",
       "    }\n",
       "\n",
       "    .dataframe tbody tr th {\n",
       "        vertical-align: top;\n",
       "    }\n",
       "\n",
       "    .dataframe thead th {\n",
       "        text-align: right;\n",
       "    }\n",
       "</style>\n",
       "<table border=\"1\" class=\"dataframe\">\n",
       "  <thead>\n",
       "    <tr style=\"text-align: right;\">\n",
       "      <th></th>\n",
       "      <th>Fromages</th>\n",
       "      <th>calories</th>\n",
       "      <th>sodium</th>\n",
       "      <th>calcium</th>\n",
       "      <th>lipides</th>\n",
       "      <th>retinol</th>\n",
       "      <th>folates</th>\n",
       "      <th>proteines</th>\n",
       "      <th>cholesterol</th>\n",
       "      <th>magnesium</th>\n",
       "    </tr>\n",
       "  </thead>\n",
       "  <tbody>\n",
       "    <tr>\n",
       "      <th>0</th>\n",
       "      <td>CarredelEst</td>\n",
       "      <td>314</td>\n",
       "      <td>353.5</td>\n",
       "      <td>72.6</td>\n",
       "      <td>26.3</td>\n",
       "      <td>51.6</td>\n",
       "      <td>30.3</td>\n",
       "      <td>21.0</td>\n",
       "      <td>70</td>\n",
       "      <td>20.0</td>\n",
       "    </tr>\n",
       "    <tr>\n",
       "      <th>1</th>\n",
       "      <td>Babybel</td>\n",
       "      <td>314</td>\n",
       "      <td>238.0</td>\n",
       "      <td>209.8</td>\n",
       "      <td>25.1</td>\n",
       "      <td>63.7</td>\n",
       "      <td>6.4</td>\n",
       "      <td>22.6</td>\n",
       "      <td>70</td>\n",
       "      <td>27.0</td>\n",
       "    </tr>\n",
       "    <tr>\n",
       "      <th>2</th>\n",
       "      <td>Beaufort</td>\n",
       "      <td>401</td>\n",
       "      <td>112.0</td>\n",
       "      <td>259.4</td>\n",
       "      <td>33.3</td>\n",
       "      <td>54.9</td>\n",
       "      <td>1.2</td>\n",
       "      <td>26.6</td>\n",
       "      <td>120</td>\n",
       "      <td>41.0</td>\n",
       "    </tr>\n",
       "    <tr>\n",
       "      <th>3</th>\n",
       "      <td>Bleu</td>\n",
       "      <td>342</td>\n",
       "      <td>336.0</td>\n",
       "      <td>211.1</td>\n",
       "      <td>28.9</td>\n",
       "      <td>37.1</td>\n",
       "      <td>27.5</td>\n",
       "      <td>20.2</td>\n",
       "      <td>90</td>\n",
       "      <td>27.0</td>\n",
       "    </tr>\n",
       "    <tr>\n",
       "      <th>4</th>\n",
       "      <td>Camembert</td>\n",
       "      <td>264</td>\n",
       "      <td>314.0</td>\n",
       "      <td>215.9</td>\n",
       "      <td>19.5</td>\n",
       "      <td>103.0</td>\n",
       "      <td>36.4</td>\n",
       "      <td>23.4</td>\n",
       "      <td>60</td>\n",
       "      <td>20.0</td>\n",
       "    </tr>\n",
       "    <tr>\n",
       "      <th>5</th>\n",
       "      <td>Cantal</td>\n",
       "      <td>367</td>\n",
       "      <td>256.0</td>\n",
       "      <td>264.0</td>\n",
       "      <td>28.8</td>\n",
       "      <td>48.8</td>\n",
       "      <td>5.7</td>\n",
       "      <td>23.0</td>\n",
       "      <td>90</td>\n",
       "      <td>30.0</td>\n",
       "    </tr>\n",
       "    <tr>\n",
       "      <th>6</th>\n",
       "      <td>Chabichou</td>\n",
       "      <td>344</td>\n",
       "      <td>192.0</td>\n",
       "      <td>87.2</td>\n",
       "      <td>27.9</td>\n",
       "      <td>90.1</td>\n",
       "      <td>36.3</td>\n",
       "      <td>19.5</td>\n",
       "      <td>80</td>\n",
       "      <td>36.0</td>\n",
       "    </tr>\n",
       "    <tr>\n",
       "      <th>7</th>\n",
       "      <td>Chaource</td>\n",
       "      <td>292</td>\n",
       "      <td>276.0</td>\n",
       "      <td>132.9</td>\n",
       "      <td>25.4</td>\n",
       "      <td>116.4</td>\n",
       "      <td>32.5</td>\n",
       "      <td>17.8</td>\n",
       "      <td>70</td>\n",
       "      <td>25.0</td>\n",
       "    </tr>\n",
       "    <tr>\n",
       "      <th>8</th>\n",
       "      <td>Cheddar</td>\n",
       "      <td>406</td>\n",
       "      <td>172.0</td>\n",
       "      <td>182.3</td>\n",
       "      <td>32.5</td>\n",
       "      <td>76.4</td>\n",
       "      <td>4.9</td>\n",
       "      <td>26.0</td>\n",
       "      <td>110</td>\n",
       "      <td>28.0</td>\n",
       "    </tr>\n",
       "    <tr>\n",
       "      <th>10</th>\n",
       "      <td>Coulomniers</td>\n",
       "      <td>308</td>\n",
       "      <td>222.0</td>\n",
       "      <td>79.2</td>\n",
       "      <td>25.6</td>\n",
       "      <td>63.6</td>\n",
       "      <td>21.1</td>\n",
       "      <td>20.5</td>\n",
       "      <td>80</td>\n",
       "      <td>13.0</td>\n",
       "    </tr>\n",
       "    <tr>\n",
       "      <th>12</th>\n",
       "      <td>Emmental</td>\n",
       "      <td>378</td>\n",
       "      <td>60.0</td>\n",
       "      <td>308.2</td>\n",
       "      <td>29.4</td>\n",
       "      <td>56.3</td>\n",
       "      <td>2.4</td>\n",
       "      <td>29.4</td>\n",
       "      <td>110</td>\n",
       "      <td>45.0</td>\n",
       "    </tr>\n",
       "    <tr>\n",
       "      <th>13</th>\n",
       "      <td>Fr.chevrepatemolle</td>\n",
       "      <td>206</td>\n",
       "      <td>160.0</td>\n",
       "      <td>72.8</td>\n",
       "      <td>18.5</td>\n",
       "      <td>150.5</td>\n",
       "      <td>31.0</td>\n",
       "      <td>11.1</td>\n",
       "      <td>50</td>\n",
       "      <td>16.0</td>\n",
       "    </tr>\n",
       "    <tr>\n",
       "      <th>14</th>\n",
       "      <td>Fr.fondu.45</td>\n",
       "      <td>292</td>\n",
       "      <td>390.0</td>\n",
       "      <td>168.5</td>\n",
       "      <td>24.0</td>\n",
       "      <td>77.4</td>\n",
       "      <td>5.5</td>\n",
       "      <td>16.8</td>\n",
       "      <td>70</td>\n",
       "      <td>20.0</td>\n",
       "    </tr>\n",
       "    <tr>\n",
       "      <th>16</th>\n",
       "      <td>Fr.frais40nat.</td>\n",
       "      <td>115</td>\n",
       "      <td>25.0</td>\n",
       "      <td>94.8</td>\n",
       "      <td>7.8</td>\n",
       "      <td>64.3</td>\n",
       "      <td>22.6</td>\n",
       "      <td>7.0</td>\n",
       "      <td>30</td>\n",
       "      <td>10.0</td>\n",
       "    </tr>\n",
       "    <tr>\n",
       "      <th>17</th>\n",
       "      <td>Maroilles</td>\n",
       "      <td>338</td>\n",
       "      <td>311.0</td>\n",
       "      <td>236.7</td>\n",
       "      <td>29.1</td>\n",
       "      <td>46.7</td>\n",
       "      <td>3.6</td>\n",
       "      <td>20.4</td>\n",
       "      <td>90</td>\n",
       "      <td>40.0</td>\n",
       "    </tr>\n",
       "    <tr>\n",
       "      <th>19</th>\n",
       "      <td>Parmesan</td>\n",
       "      <td>381</td>\n",
       "      <td>240.0</td>\n",
       "      <td>334.6</td>\n",
       "      <td>27.5</td>\n",
       "      <td>90.0</td>\n",
       "      <td>5.2</td>\n",
       "      <td>35.7</td>\n",
       "      <td>80</td>\n",
       "      <td>46.0</td>\n",
       "    </tr>\n",
       "    <tr>\n",
       "      <th>20</th>\n",
       "      <td>Petitsuisse40</td>\n",
       "      <td>142</td>\n",
       "      <td>22.0</td>\n",
       "      <td>78.2</td>\n",
       "      <td>10.4</td>\n",
       "      <td>63.4</td>\n",
       "      <td>20.4</td>\n",
       "      <td>9.4</td>\n",
       "      <td>20</td>\n",
       "      <td>10.0</td>\n",
       "    </tr>\n",
       "    <tr>\n",
       "      <th>21</th>\n",
       "      <td>PontlEveque</td>\n",
       "      <td>300</td>\n",
       "      <td>223.0</td>\n",
       "      <td>156.7</td>\n",
       "      <td>23.4</td>\n",
       "      <td>53.0</td>\n",
       "      <td>4.0</td>\n",
       "      <td>21.1</td>\n",
       "      <td>70</td>\n",
       "      <td>22.0</td>\n",
       "    </tr>\n",
       "    <tr>\n",
       "      <th>22</th>\n",
       "      <td>Pyrenees</td>\n",
       "      <td>355</td>\n",
       "      <td>232.0</td>\n",
       "      <td>178.9</td>\n",
       "      <td>28.0</td>\n",
       "      <td>51.5</td>\n",
       "      <td>6.8</td>\n",
       "      <td>22.4</td>\n",
       "      <td>90</td>\n",
       "      <td>25.0</td>\n",
       "    </tr>\n",
       "    <tr>\n",
       "      <th>23</th>\n",
       "      <td>Reblochon</td>\n",
       "      <td>309</td>\n",
       "      <td>272.0</td>\n",
       "      <td>202.3</td>\n",
       "      <td>24.6</td>\n",
       "      <td>73.1</td>\n",
       "      <td>8.1</td>\n",
       "      <td>19.7</td>\n",
       "      <td>80</td>\n",
       "      <td>30.0</td>\n",
       "    </tr>\n",
       "  </tbody>\n",
       "</table>\n",
       "</div>"
      ],
      "text/plain": [
       "              Fromages  calories  sodium  calcium  lipides  retinol  folates  \\\n",
       "0          CarredelEst       314   353.5     72.6     26.3     51.6     30.3   \n",
       "1              Babybel       314   238.0    209.8     25.1     63.7      6.4   \n",
       "2             Beaufort       401   112.0    259.4     33.3     54.9      1.2   \n",
       "3                 Bleu       342   336.0    211.1     28.9     37.1     27.5   \n",
       "4            Camembert       264   314.0    215.9     19.5    103.0     36.4   \n",
       "5               Cantal       367   256.0    264.0     28.8     48.8      5.7   \n",
       "6            Chabichou       344   192.0     87.2     27.9     90.1     36.3   \n",
       "7             Chaource       292   276.0    132.9     25.4    116.4     32.5   \n",
       "8              Cheddar       406   172.0    182.3     32.5     76.4      4.9   \n",
       "10         Coulomniers       308   222.0     79.2     25.6     63.6     21.1   \n",
       "12            Emmental       378    60.0    308.2     29.4     56.3      2.4   \n",
       "13  Fr.chevrepatemolle       206   160.0     72.8     18.5    150.5     31.0   \n",
       "14         Fr.fondu.45       292   390.0    168.5     24.0     77.4      5.5   \n",
       "16      Fr.frais40nat.       115    25.0     94.8      7.8     64.3     22.6   \n",
       "17           Maroilles       338   311.0    236.7     29.1     46.7      3.6   \n",
       "19            Parmesan       381   240.0    334.6     27.5     90.0      5.2   \n",
       "20       Petitsuisse40       142    22.0     78.2     10.4     63.4     20.4   \n",
       "21         PontlEveque       300   223.0    156.7     23.4     53.0      4.0   \n",
       "22            Pyrenees       355   232.0    178.9     28.0     51.5      6.8   \n",
       "23           Reblochon       309   272.0    202.3     24.6     73.1      8.1   \n",
       "\n",
       "    proteines  cholesterol  magnesium  \n",
       "0        21.0           70       20.0  \n",
       "1        22.6           70       27.0  \n",
       "2        26.6          120       41.0  \n",
       "3        20.2           90       27.0  \n",
       "4        23.4           60       20.0  \n",
       "5        23.0           90       30.0  \n",
       "6        19.5           80       36.0  \n",
       "7        17.8           70       25.0  \n",
       "8        26.0          110       28.0  \n",
       "10       20.5           80       13.0  \n",
       "12       29.4          110       45.0  \n",
       "13       11.1           50       16.0  \n",
       "14       16.8           70       20.0  \n",
       "16        7.0           30       10.0  \n",
       "17       20.4           90       40.0  \n",
       "19       35.7           80       46.0  \n",
       "20        9.4           20       10.0  \n",
       "21       21.1           70       22.0  \n",
       "22       22.4           90       25.0  \n",
       "23       19.7           80       30.0  "
      ]
     },
     "execution_count": 30,
     "metadata": {},
     "output_type": "execute_result"
    }
   ],
   "source": [
    "data = pd.read_csv(\"data/fromage.csv\",sep=\";\", na_values=['?', -9999])\n",
    "data.dropna().head(20)"
   ]
  },
  {
   "cell_type": "code",
   "execution_count": 31,
   "metadata": {},
   "outputs": [
    {
     "data": {
      "text/html": [
       "<div>\n",
       "<style scoped>\n",
       "    .dataframe tbody tr th:only-of-type {\n",
       "        vertical-align: middle;\n",
       "    }\n",
       "\n",
       "    .dataframe tbody tr th {\n",
       "        vertical-align: top;\n",
       "    }\n",
       "\n",
       "    .dataframe thead th {\n",
       "        text-align: right;\n",
       "    }\n",
       "</style>\n",
       "<table border=\"1\" class=\"dataframe\">\n",
       "  <thead>\n",
       "    <tr style=\"text-align: right;\">\n",
       "      <th></th>\n",
       "      <th>Fromages</th>\n",
       "      <th>calories</th>\n",
       "      <th>sodium</th>\n",
       "      <th>calcium</th>\n",
       "      <th>lipides</th>\n",
       "      <th>retinol</th>\n",
       "      <th>folates</th>\n",
       "      <th>proteines</th>\n",
       "      <th>cholesterol</th>\n",
       "      <th>magnesium</th>\n",
       "    </tr>\n",
       "  </thead>\n",
       "  <tbody>\n",
       "    <tr>\n",
       "      <th>0</th>\n",
       "      <td>CarredelEst</td>\n",
       "      <td>314</td>\n",
       "      <td>353.5</td>\n",
       "      <td>72.6</td>\n",
       "      <td>26.3</td>\n",
       "      <td>51.6</td>\n",
       "      <td>30.3</td>\n",
       "      <td>21.0</td>\n",
       "      <td>70</td>\n",
       "      <td>20.0</td>\n",
       "    </tr>\n",
       "    <tr>\n",
       "      <th>1</th>\n",
       "      <td>Babybel</td>\n",
       "      <td>314</td>\n",
       "      <td>238.0</td>\n",
       "      <td>209.8</td>\n",
       "      <td>25.1</td>\n",
       "      <td>63.7</td>\n",
       "      <td>6.4</td>\n",
       "      <td>22.6</td>\n",
       "      <td>70</td>\n",
       "      <td>27.0</td>\n",
       "    </tr>\n",
       "    <tr>\n",
       "      <th>2</th>\n",
       "      <td>Beaufort</td>\n",
       "      <td>401</td>\n",
       "      <td>112.0</td>\n",
       "      <td>259.4</td>\n",
       "      <td>33.3</td>\n",
       "      <td>54.9</td>\n",
       "      <td>1.2</td>\n",
       "      <td>26.6</td>\n",
       "      <td>120</td>\n",
       "      <td>41.0</td>\n",
       "    </tr>\n",
       "    <tr>\n",
       "      <th>3</th>\n",
       "      <td>Bleu</td>\n",
       "      <td>342</td>\n",
       "      <td>336.0</td>\n",
       "      <td>211.1</td>\n",
       "      <td>28.9</td>\n",
       "      <td>37.1</td>\n",
       "      <td>27.5</td>\n",
       "      <td>20.2</td>\n",
       "      <td>90</td>\n",
       "      <td>27.0</td>\n",
       "    </tr>\n",
       "    <tr>\n",
       "      <th>4</th>\n",
       "      <td>Camembert</td>\n",
       "      <td>264</td>\n",
       "      <td>314.0</td>\n",
       "      <td>215.9</td>\n",
       "      <td>19.5</td>\n",
       "      <td>103.0</td>\n",
       "      <td>36.4</td>\n",
       "      <td>23.4</td>\n",
       "      <td>60</td>\n",
       "      <td>20.0</td>\n",
       "    </tr>\n",
       "    <tr>\n",
       "      <th>5</th>\n",
       "      <td>Cantal</td>\n",
       "      <td>367</td>\n",
       "      <td>256.0</td>\n",
       "      <td>264.0</td>\n",
       "      <td>28.8</td>\n",
       "      <td>48.8</td>\n",
       "      <td>5.7</td>\n",
       "      <td>23.0</td>\n",
       "      <td>90</td>\n",
       "      <td>30.0</td>\n",
       "    </tr>\n",
       "    <tr>\n",
       "      <th>6</th>\n",
       "      <td>Chabichou</td>\n",
       "      <td>344</td>\n",
       "      <td>192.0</td>\n",
       "      <td>87.2</td>\n",
       "      <td>27.9</td>\n",
       "      <td>90.1</td>\n",
       "      <td>36.3</td>\n",
       "      <td>19.5</td>\n",
       "      <td>80</td>\n",
       "      <td>36.0</td>\n",
       "    </tr>\n",
       "    <tr>\n",
       "      <th>7</th>\n",
       "      <td>Chaource</td>\n",
       "      <td>292</td>\n",
       "      <td>276.0</td>\n",
       "      <td>132.9</td>\n",
       "      <td>25.4</td>\n",
       "      <td>116.4</td>\n",
       "      <td>32.5</td>\n",
       "      <td>17.8</td>\n",
       "      <td>70</td>\n",
       "      <td>25.0</td>\n",
       "    </tr>\n",
       "    <tr>\n",
       "      <th>8</th>\n",
       "      <td>Cheddar</td>\n",
       "      <td>406</td>\n",
       "      <td>172.0</td>\n",
       "      <td>182.3</td>\n",
       "      <td>32.5</td>\n",
       "      <td>76.4</td>\n",
       "      <td>4.9</td>\n",
       "      <td>26.0</td>\n",
       "      <td>110</td>\n",
       "      <td>28.0</td>\n",
       "    </tr>\n",
       "    <tr>\n",
       "      <th>9</th>\n",
       "      <td>Comte</td>\n",
       "      <td>399</td>\n",
       "      <td>92.0</td>\n",
       "      <td>220.5</td>\n",
       "      <td>32.4</td>\n",
       "      <td>55.9</td>\n",
       "      <td>NaN</td>\n",
       "      <td>29.2</td>\n",
       "      <td>120</td>\n",
       "      <td>51.0</td>\n",
       "    </tr>\n",
       "    <tr>\n",
       "      <th>10</th>\n",
       "      <td>Coulomniers</td>\n",
       "      <td>308</td>\n",
       "      <td>222.0</td>\n",
       "      <td>79.2</td>\n",
       "      <td>25.6</td>\n",
       "      <td>63.6</td>\n",
       "      <td>21.1</td>\n",
       "      <td>20.5</td>\n",
       "      <td>80</td>\n",
       "      <td>13.0</td>\n",
       "    </tr>\n",
       "    <tr>\n",
       "      <th>11</th>\n",
       "      <td>Edam</td>\n",
       "      <td>327</td>\n",
       "      <td>148.0</td>\n",
       "      <td>272.2</td>\n",
       "      <td>24.7</td>\n",
       "      <td>65.7</td>\n",
       "      <td>5.5</td>\n",
       "      <td>24.7</td>\n",
       "      <td>80</td>\n",
       "      <td>NaN</td>\n",
       "    </tr>\n",
       "    <tr>\n",
       "      <th>12</th>\n",
       "      <td>Emmental</td>\n",
       "      <td>378</td>\n",
       "      <td>60.0</td>\n",
       "      <td>308.2</td>\n",
       "      <td>29.4</td>\n",
       "      <td>56.3</td>\n",
       "      <td>2.4</td>\n",
       "      <td>29.4</td>\n",
       "      <td>110</td>\n",
       "      <td>45.0</td>\n",
       "    </tr>\n",
       "    <tr>\n",
       "      <th>13</th>\n",
       "      <td>Fr.chevrepatemolle</td>\n",
       "      <td>206</td>\n",
       "      <td>160.0</td>\n",
       "      <td>72.8</td>\n",
       "      <td>18.5</td>\n",
       "      <td>150.5</td>\n",
       "      <td>31.0</td>\n",
       "      <td>11.1</td>\n",
       "      <td>50</td>\n",
       "      <td>16.0</td>\n",
       "    </tr>\n",
       "    <tr>\n",
       "      <th>14</th>\n",
       "      <td>Fr.fondu.45</td>\n",
       "      <td>292</td>\n",
       "      <td>390.0</td>\n",
       "      <td>168.5</td>\n",
       "      <td>24.0</td>\n",
       "      <td>77.4</td>\n",
       "      <td>5.5</td>\n",
       "      <td>16.8</td>\n",
       "      <td>70</td>\n",
       "      <td>20.0</td>\n",
       "    </tr>\n",
       "    <tr>\n",
       "      <th>15</th>\n",
       "      <td>Fr.frais20nat.</td>\n",
       "      <td>80</td>\n",
       "      <td>41.0</td>\n",
       "      <td>146.3</td>\n",
       "      <td>3.5</td>\n",
       "      <td>NaN</td>\n",
       "      <td>20.0</td>\n",
       "      <td>8.3</td>\n",
       "      <td>10</td>\n",
       "      <td>11.0</td>\n",
       "    </tr>\n",
       "    <tr>\n",
       "      <th>16</th>\n",
       "      <td>Fr.frais40nat.</td>\n",
       "      <td>115</td>\n",
       "      <td>25.0</td>\n",
       "      <td>94.8</td>\n",
       "      <td>7.8</td>\n",
       "      <td>64.3</td>\n",
       "      <td>22.6</td>\n",
       "      <td>7.0</td>\n",
       "      <td>30</td>\n",
       "      <td>10.0</td>\n",
       "    </tr>\n",
       "    <tr>\n",
       "      <th>17</th>\n",
       "      <td>Maroilles</td>\n",
       "      <td>338</td>\n",
       "      <td>311.0</td>\n",
       "      <td>236.7</td>\n",
       "      <td>29.1</td>\n",
       "      <td>46.7</td>\n",
       "      <td>3.6</td>\n",
       "      <td>20.4</td>\n",
       "      <td>90</td>\n",
       "      <td>40.0</td>\n",
       "    </tr>\n",
       "    <tr>\n",
       "      <th>18</th>\n",
       "      <td>Morbier</td>\n",
       "      <td>347</td>\n",
       "      <td>285.0</td>\n",
       "      <td>219.0</td>\n",
       "      <td>29.5</td>\n",
       "      <td>57.6</td>\n",
       "      <td>5.8</td>\n",
       "      <td>23.6</td>\n",
       "      <td>80</td>\n",
       "      <td>NaN</td>\n",
       "    </tr>\n",
       "    <tr>\n",
       "      <th>19</th>\n",
       "      <td>Parmesan</td>\n",
       "      <td>381</td>\n",
       "      <td>240.0</td>\n",
       "      <td>334.6</td>\n",
       "      <td>27.5</td>\n",
       "      <td>90.0</td>\n",
       "      <td>5.2</td>\n",
       "      <td>35.7</td>\n",
       "      <td>80</td>\n",
       "      <td>46.0</td>\n",
       "    </tr>\n",
       "    <tr>\n",
       "      <th>20</th>\n",
       "      <td>Petitsuisse40</td>\n",
       "      <td>142</td>\n",
       "      <td>22.0</td>\n",
       "      <td>78.2</td>\n",
       "      <td>10.4</td>\n",
       "      <td>63.4</td>\n",
       "      <td>20.4</td>\n",
       "      <td>9.4</td>\n",
       "      <td>20</td>\n",
       "      <td>10.0</td>\n",
       "    </tr>\n",
       "    <tr>\n",
       "      <th>21</th>\n",
       "      <td>PontlEveque</td>\n",
       "      <td>300</td>\n",
       "      <td>223.0</td>\n",
       "      <td>156.7</td>\n",
       "      <td>23.4</td>\n",
       "      <td>53.0</td>\n",
       "      <td>4.0</td>\n",
       "      <td>21.1</td>\n",
       "      <td>70</td>\n",
       "      <td>22.0</td>\n",
       "    </tr>\n",
       "    <tr>\n",
       "      <th>22</th>\n",
       "      <td>Pyrenees</td>\n",
       "      <td>355</td>\n",
       "      <td>232.0</td>\n",
       "      <td>178.9</td>\n",
       "      <td>28.0</td>\n",
       "      <td>51.5</td>\n",
       "      <td>6.8</td>\n",
       "      <td>22.4</td>\n",
       "      <td>90</td>\n",
       "      <td>25.0</td>\n",
       "    </tr>\n",
       "    <tr>\n",
       "      <th>23</th>\n",
       "      <td>Reblochon</td>\n",
       "      <td>309</td>\n",
       "      <td>272.0</td>\n",
       "      <td>202.3</td>\n",
       "      <td>24.6</td>\n",
       "      <td>73.1</td>\n",
       "      <td>8.1</td>\n",
       "      <td>19.7</td>\n",
       "      <td>80</td>\n",
       "      <td>30.0</td>\n",
       "    </tr>\n",
       "    <tr>\n",
       "      <th>24</th>\n",
       "      <td>Rocquefort</td>\n",
       "      <td>370</td>\n",
       "      <td>432.0</td>\n",
       "      <td>162.0</td>\n",
       "      <td>31.2</td>\n",
       "      <td>83.5</td>\n",
       "      <td>13.3</td>\n",
       "      <td>18.7</td>\n",
       "      <td>100</td>\n",
       "      <td>25.0</td>\n",
       "    </tr>\n",
       "    <tr>\n",
       "      <th>25</th>\n",
       "      <td>SaintPaulin</td>\n",
       "      <td>298</td>\n",
       "      <td>205.0</td>\n",
       "      <td>261.0</td>\n",
       "      <td>23.3</td>\n",
       "      <td>60.4</td>\n",
       "      <td>6.7</td>\n",
       "      <td>23.3</td>\n",
       "      <td>70</td>\n",
       "      <td>26.0</td>\n",
       "    </tr>\n",
       "    <tr>\n",
       "      <th>26</th>\n",
       "      <td>Tome</td>\n",
       "      <td>321</td>\n",
       "      <td>252.0</td>\n",
       "      <td>125.5</td>\n",
       "      <td>27.3</td>\n",
       "      <td>62.3</td>\n",
       "      <td>6.2</td>\n",
       "      <td>21.8</td>\n",
       "      <td>80</td>\n",
       "      <td>20.0</td>\n",
       "    </tr>\n",
       "    <tr>\n",
       "      <th>27</th>\n",
       "      <td>Vacherin</td>\n",
       "      <td>321</td>\n",
       "      <td>140.0</td>\n",
       "      <td>218.0</td>\n",
       "      <td>29.3</td>\n",
       "      <td>49.2</td>\n",
       "      <td>3.7</td>\n",
       "      <td>17.6</td>\n",
       "      <td>80</td>\n",
       "      <td>30.0</td>\n",
       "    </tr>\n",
       "    <tr>\n",
       "      <th>28</th>\n",
       "      <td>Yaourtlaitent.nat.</td>\n",
       "      <td>70</td>\n",
       "      <td>91.0</td>\n",
       "      <td>215.7</td>\n",
       "      <td>3.4</td>\n",
       "      <td>42.9</td>\n",
       "      <td>2.9</td>\n",
       "      <td>4.1</td>\n",
       "      <td>13</td>\n",
       "      <td>14.0</td>\n",
       "    </tr>\n",
       "  </tbody>\n",
       "</table>\n",
       "</div>"
      ],
      "text/plain": [
       "              Fromages  calories  sodium  calcium  lipides  retinol  folates  \\\n",
       "0          CarredelEst       314   353.5     72.6     26.3     51.6     30.3   \n",
       "1              Babybel       314   238.0    209.8     25.1     63.7      6.4   \n",
       "2             Beaufort       401   112.0    259.4     33.3     54.9      1.2   \n",
       "3                 Bleu       342   336.0    211.1     28.9     37.1     27.5   \n",
       "4            Camembert       264   314.0    215.9     19.5    103.0     36.4   \n",
       "5               Cantal       367   256.0    264.0     28.8     48.8      5.7   \n",
       "6            Chabichou       344   192.0     87.2     27.9     90.1     36.3   \n",
       "7             Chaource       292   276.0    132.9     25.4    116.4     32.5   \n",
       "8              Cheddar       406   172.0    182.3     32.5     76.4      4.9   \n",
       "9                Comte       399    92.0    220.5     32.4     55.9      NaN   \n",
       "10         Coulomniers       308   222.0     79.2     25.6     63.6     21.1   \n",
       "11                Edam       327   148.0    272.2     24.7     65.7      5.5   \n",
       "12            Emmental       378    60.0    308.2     29.4     56.3      2.4   \n",
       "13  Fr.chevrepatemolle       206   160.0     72.8     18.5    150.5     31.0   \n",
       "14         Fr.fondu.45       292   390.0    168.5     24.0     77.4      5.5   \n",
       "15      Fr.frais20nat.        80    41.0    146.3      3.5      NaN     20.0   \n",
       "16      Fr.frais40nat.       115    25.0     94.8      7.8     64.3     22.6   \n",
       "17           Maroilles       338   311.0    236.7     29.1     46.7      3.6   \n",
       "18             Morbier       347   285.0    219.0     29.5     57.6      5.8   \n",
       "19            Parmesan       381   240.0    334.6     27.5     90.0      5.2   \n",
       "20       Petitsuisse40       142    22.0     78.2     10.4     63.4     20.4   \n",
       "21         PontlEveque       300   223.0    156.7     23.4     53.0      4.0   \n",
       "22            Pyrenees       355   232.0    178.9     28.0     51.5      6.8   \n",
       "23           Reblochon       309   272.0    202.3     24.6     73.1      8.1   \n",
       "24          Rocquefort       370   432.0    162.0     31.2     83.5     13.3   \n",
       "25         SaintPaulin       298   205.0    261.0     23.3     60.4      6.7   \n",
       "26                Tome       321   252.0    125.5     27.3     62.3      6.2   \n",
       "27            Vacherin       321   140.0    218.0     29.3     49.2      3.7   \n",
       "28  Yaourtlaitent.nat.        70    91.0    215.7      3.4     42.9      2.9   \n",
       "\n",
       "    proteines  cholesterol  magnesium  \n",
       "0        21.0           70       20.0  \n",
       "1        22.6           70       27.0  \n",
       "2        26.6          120       41.0  \n",
       "3        20.2           90       27.0  \n",
       "4        23.4           60       20.0  \n",
       "5        23.0           90       30.0  \n",
       "6        19.5           80       36.0  \n",
       "7        17.8           70       25.0  \n",
       "8        26.0          110       28.0  \n",
       "9        29.2          120       51.0  \n",
       "10       20.5           80       13.0  \n",
       "11       24.7           80        NaN  \n",
       "12       29.4          110       45.0  \n",
       "13       11.1           50       16.0  \n",
       "14       16.8           70       20.0  \n",
       "15        8.3           10       11.0  \n",
       "16        7.0           30       10.0  \n",
       "17       20.4           90       40.0  \n",
       "18       23.6           80        NaN  \n",
       "19       35.7           80       46.0  \n",
       "20        9.4           20       10.0  \n",
       "21       21.1           70       22.0  \n",
       "22       22.4           90       25.0  \n",
       "23       19.7           80       30.0  \n",
       "24       18.7          100       25.0  \n",
       "25       23.3           70       26.0  \n",
       "26       21.8           80       20.0  \n",
       "27       17.6           80       30.0  \n",
       "28        4.1           13       14.0  "
      ]
     },
     "execution_count": 31,
     "metadata": {},
     "output_type": "execute_result"
    }
   ],
   "source": [
    "data[data.notnull()]"
   ]
  },
  {
   "cell_type": "markdown",
   "metadata": {},
   "source": [
    "La méthode `dropna` supprime touts les lignes contenant au moins une valeur manquante."
   ]
  },
  {
   "cell_type": "markdown",
   "metadata": {},
   "source": [
    "Il est possible de spécifier avec l'argumemnt `how='all'`, de ne supprimer que les lignes ne contenant **que des valeurs manquantes**."
   ]
  },
  {
   "cell_type": "code",
   "execution_count": null,
   "metadata": {},
   "outputs": [],
   "source": [
    "data.dropna(how='all')"
   ]
  },
  {
   "cell_type": "markdown",
   "metadata": {},
   "source": [
    "Ou encore avec l'argument `Thresh` qui spécifie un seuil de valeurs manquantes."
   ]
  },
  {
   "cell_type": "code",
   "execution_count": null,
   "metadata": {},
   "outputs": [],
   "source": [
    "data.dropna(thresh=4)"
   ]
  },
  {
   "cell_type": "markdown",
   "metadata": {},
   "source": [
    "Avec l'argument `axis=1` c'est la colonne qui est supprimée !"
   ]
  },
  {
   "cell_type": "code",
   "execution_count": null,
   "metadata": {},
   "outputs": [],
   "source": [
    "data.dropna(axis=1)"
   ]
  },
  {
   "cell_type": "markdown",
   "metadata": {},
   "source": [
    "Il est parfois préférable de ne pas supprimer les données mais de les remplacer par une vaaleurs judicieusement choisie : un zéro, une moyenne, une médiane ou une interpollation."
   ]
  },
  {
   "cell_type": "code",
   "execution_count": null,
   "metadata": {},
   "outputs": [],
   "source": [
    "data.head(20)"
   ]
  },
  {
   "cell_type": "code",
   "execution_count": null,
   "metadata": {},
   "outputs": [],
   "source": [
    "data.fillna(0).head(20)"
   ]
  },
  {
   "cell_type": "markdown",
   "metadata": {},
   "source": [
    "Ou encore : "
   ]
  },
  {
   "cell_type": "code",
   "execution_count": null,
   "metadata": {},
   "outputs": [],
   "source": [
    "data.fillna(method='bfill').head(20)"
   ]
  },
  {
   "cell_type": "code",
   "execution_count": null,
   "metadata": {},
   "outputs": [],
   "source": [
    "data.fillna(data.mean()).head(20)"
   ]
  },
  {
   "cell_type": "markdown",
   "metadata": {},
   "source": [
    "## Déscription analytique des données\n",
    "\n",
    "De nombreux outils de calculs statistiques sont disponibles dans Pandas et permettent d'avoir une approche analytique des données."
   ]
  },
  {
   "cell_type": "code",
   "execution_count": 32,
   "metadata": {},
   "outputs": [
    {
     "data": {
      "text/plain": [
       "Fromages       CarredelEstBabybelBeaufortBleuCamembertCantalC...\n",
       "calories                                                    8701\n",
       "sodium                                                    6092.5\n",
       "calcium                                                   5386.3\n",
       "lipides                                                    700.6\n",
       "retinol                                                   1909.3\n",
       "folates                                                      376\n",
       "proteines                                                  584.9\n",
       "cholesterol                                                 2163\n",
       "magnesium                                                    708\n",
       "dtype: object"
      ]
     },
     "execution_count": 32,
     "metadata": {},
     "output_type": "execute_result"
    }
   ],
   "source": [
    "data.sum()"
   ]
  },
  {
   "cell_type": "code",
   "execution_count": null,
   "metadata": {},
   "outputs": [],
   "source": [
    "data.mean()"
   ]
  },
  {
   "cell_type": "markdown",
   "metadata": {},
   "source": [
    "Pandas ne comptabilise pas les valeutrs manquantes mais il est possible de modifier son comportement."
   ]
  },
  {
   "cell_type": "code",
   "execution_count": null,
   "metadata": {},
   "outputs": [],
   "source": [
    "data.mean(skipna=False)"
   ]
  },
  {
   "cell_type": "markdown",
   "metadata": {},
   "source": [
    "Pandas dispose d'une méthode très pratiquepour la description des données :  `describe`:"
   ]
  },
  {
   "cell_type": "code",
   "execution_count": null,
   "metadata": {},
   "outputs": [],
   "source": [
    "data.describe()"
   ]
  },
  {
   "cell_type": "markdown",
   "metadata": {},
   "source": [
    "`describe` peut aussi être appliquée aux données non numériques."
   ]
  },
  {
   "cell_type": "code",
   "execution_count": null,
   "metadata": {},
   "outputs": [],
   "source": [
    "data.Fromages.describe()"
   ]
  },
  {
   "cell_type": "markdown",
   "metadata": {},
   "source": [
    "Méthodes de correlation :"
   ]
  },
  {
   "cell_type": "code",
   "execution_count": null,
   "metadata": {},
   "outputs": [],
   "source": [
    "data.calories.corr(data.calcium)"
   ]
  },
  {
   "cell_type": "code",
   "execution_count": null,
   "metadata": {},
   "outputs": [],
   "source": [
    "data.corr()"
   ]
  },
  {
   "cell_type": "markdown",
   "metadata": {},
   "source": [
    "## Exportation des données\n",
    "\n",
    "To comme la méthode read_csv il existe une méthode to_csv qui permet d'exporter un dataframe vers un fichier csv."
   ]
  },
  {
   "cell_type": "code",
   "execution_count": null,
   "metadata": {},
   "outputs": [],
   "source": [
    "data.to_csv(\"data2.csv\")"
   ]
  },
  {
   "cell_type": "markdown",
   "metadata": {},
   "source": [
    "La méthode `to_csv` accepte aussi les argument `sep`, `header`, `index` et bien d'autres"
   ]
  },
  {
   "cell_type": "markdown",
   "metadata": {},
   "source": [
    "<hr>\n",
    "Copyright &copy; 2020 Hatem & Driss @NEEDEMAND"
   ]
  }
 ],
 "metadata": {
  "kernelspec": {
   "display_name": "Python 3",
   "language": "python",
   "name": "python3"
  },
  "language_info": {
   "codemirror_mode": {
    "name": "ipython",
    "version": 3
   },
   "file_extension": ".py",
   "mimetype": "text/x-python",
   "name": "python",
   "nbconvert_exporter": "python",
   "pygments_lexer": "ipython3",
   "version": "3.7.3"
  }
 },
 "nbformat": 4,
 "nbformat_minor": 1
}
